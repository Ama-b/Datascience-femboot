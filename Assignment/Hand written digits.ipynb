{
 "cells": [
  {
   "cell_type": "code",
   "execution_count": 1,
   "metadata": {},
   "outputs": [],
   "source": [
    "from sklearn.datasets import load_digits"
   ]
  },
  {
   "cell_type": "code",
   "execution_count": 2,
   "metadata": {},
   "outputs": [],
   "source": [
    "digits=load_digits()"
   ]
  },
  {
   "cell_type": "code",
   "execution_count": 3,
   "metadata": {},
   "outputs": [],
   "source": [
    "X=digits.data\n",
    "y=digits.target"
   ]
  },
  {
   "cell_type": "code",
   "execution_count": 4,
   "metadata": {},
   "outputs": [],
   "source": [
    "x1=X[100]"
   ]
  },
  {
   "cell_type": "code",
   "execution_count": 5,
   "metadata": {},
   "outputs": [
    {
     "data": {
      "text/plain": [
       "array([ 0.,  0.,  0.,  2., 13.,  0.,  0.,  0.,  0.,  0.,  0.,  8., 15.,\n",
       "        0.,  0.,  0.,  0.,  0.,  5., 16.,  5.,  2.,  0.,  0.,  0.,  0.,\n",
       "       15., 12.,  1., 16.,  4.,  0.,  0.,  4., 16.,  2.,  9., 16.,  8.,\n",
       "        0.,  0.,  0., 10., 14., 16., 16.,  4.,  0.,  0.,  0.,  0.,  0.,\n",
       "       13.,  8.,  0.,  0.,  0.,  0.,  0.,  0., 13.,  6.,  0.,  0.])"
      ]
     },
     "execution_count": 5,
     "metadata": {},
     "output_type": "execute_result"
    }
   ],
   "source": [
    "x1"
   ]
  },
  {
   "cell_type": "code",
   "execution_count": 12,
   "metadata": {},
   "outputs": [],
   "source": [
    "from sklearn.neighbors import KNeighborsClassifier"
   ]
  },
  {
   "cell_type": "code",
   "execution_count": 13,
   "metadata": {},
   "outputs": [],
   "source": [
    "knn1=KNeighborsClassifier()"
   ]
  },
  {
   "cell_type": "code",
   "execution_count": 14,
   "metadata": {},
   "outputs": [],
   "source": [
    "from sklearn.model_selection import train_test_split"
   ]
  },
  {
   "cell_type": "code",
   "execution_count": 15,
   "metadata": {},
   "outputs": [
    {
     "data": {
      "text/plain": [
       "[array([[ 0.,  0.,  9., ...,  0.,  0.,  0.],\n",
       "        [ 0.,  0., 12., ..., 15.,  6.,  0.],\n",
       "        [ 0.,  0.,  0., ...,  2.,  0.,  0.],\n",
       "        ...,\n",
       "        [ 0.,  0.,  2., ...,  2.,  0.,  0.],\n",
       "        [ 0.,  0.,  0., ...,  6.,  0.,  0.],\n",
       "        [ 0.,  0.,  0., ..., 16., 11.,  0.]]),\n",
       " array([[ 0.,  0.,  4., ...,  7.,  0.,  0.],\n",
       "        [ 0.,  2., 15., ...,  5.,  0.,  0.],\n",
       "        [ 0.,  0., 10., ...,  4.,  0.,  0.],\n",
       "        ...,\n",
       "        [ 0.,  0.,  2., ...,  6.,  0.,  0.],\n",
       "        [ 0.,  1., 11., ..., 15., 11.,  0.],\n",
       "        [ 0.,  0.,  9., ...,  9.,  0.,  0.]]),\n",
       " array([7, 9, 5, ..., 0, 0, 6]),\n",
       " array([8, 3, 0, 7, 0, 6, 8, 3, 2, 9, 4, 1, 4, 0, 1, 8, 1, 2, 9, 9, 5, 4,\n",
       "        8, 3, 3, 6, 9, 2, 2, 7, 1, 5, 9, 9, 9, 5, 2, 3, 1, 1, 3, 3, 6, 3,\n",
       "        8, 1, 6, 9, 7, 5, 9, 1, 0, 2, 5, 3, 4, 6, 0, 6, 0, 1, 4, 9, 6, 6,\n",
       "        0, 7, 1, 9, 0, 3, 7, 1, 2, 5, 0, 7, 0, 4, 6, 0, 8, 0, 6, 2, 7, 0,\n",
       "        9, 2, 7, 8, 4, 2, 9, 0, 3, 0, 6, 3, 6, 0, 2, 3, 1, 2, 3, 9, 4, 2,\n",
       "        5, 7, 0, 3, 8, 2, 9, 4, 7, 2, 0, 7, 0, 1, 2, 2, 1, 9, 3, 9, 7, 9,\n",
       "        8, 2, 8, 2, 5, 4, 5, 3, 5, 1, 6, 6, 8, 1, 4, 9, 2, 4, 8, 5, 4, 3,\n",
       "        1, 0, 5, 3, 2, 6, 2, 4, 5, 9, 4, 4, 0, 9, 6, 0, 2, 2, 8, 0, 1, 1,\n",
       "        4, 2, 3, 8, 7, 4, 9, 5, 7, 1, 6, 7, 0, 2, 8, 2, 3, 5, 8, 7, 2, 5,\n",
       "        7, 1, 2, 6, 0, 7, 0, 1, 3, 9, 9, 6, 7, 7, 9, 6, 6, 3, 7, 5, 1, 5,\n",
       "        4, 4, 1, 8, 1, 7, 8, 9, 9, 8, 2, 8, 1, 4, 7, 4, 1, 2, 1, 3, 2, 9,\n",
       "        1, 7, 1, 0, 3, 7, 1, 6, 2, 6, 9, 0, 6, 5, 4, 6, 8, 7, 6, 5, 9, 3,\n",
       "        0, 7, 0, 9, 9, 6, 0, 3, 6, 3, 6, 3, 9, 3, 6, 2, 3, 3, 9, 2, 3, 7,\n",
       "        7, 1, 4, 4, 7, 6, 8, 8, 2, 2, 3, 0, 3, 3, 1, 8, 2, 3, 5, 3, 2, 1,\n",
       "        6, 7, 8, 1, 7, 2, 7, 7, 8, 4, 4, 8, 5, 5, 6, 5, 4, 2, 1, 4, 0, 8,\n",
       "        6, 7, 3, 7, 9, 7, 9, 3, 6, 5, 1, 6, 5, 6, 9, 1, 6, 3, 9, 8, 7, 8,\n",
       "        5, 8, 9, 7, 5, 9, 1, 5, 5, 2, 5, 5, 2, 9, 4, 7, 6, 7, 5, 6, 4, 7,\n",
       "        4, 0, 3, 6, 6, 4, 8, 3, 3, 2, 5, 7, 9, 9, 9, 2, 6, 4, 3, 8, 3, 2,\n",
       "        4, 0, 2, 4, 1, 3, 1, 6, 0, 0, 7, 0, 7, 1, 1, 7, 1, 6, 0, 9, 0, 4,\n",
       "        4, 4, 5, 1, 4, 5, 9, 4, 8, 6, 9, 8, 0, 0, 2, 5, 7, 0, 5, 0, 0, 5,\n",
       "        1, 7, 5, 1, 6, 1, 6, 0, 2, 9])]"
      ]
     },
     "execution_count": 15,
     "metadata": {},
     "output_type": "execute_result"
    }
   ],
   "source": [
    "train_test_split(X,y)"
   ]
  },
  {
   "cell_type": "code",
   "execution_count": 16,
   "metadata": {},
   "outputs": [],
   "source": [
    "X_train,X_test,y_train,y_test=train_test_split(X,y)"
   ]
  },
  {
   "cell_type": "code",
   "execution_count": 17,
   "metadata": {},
   "outputs": [
    {
     "data": {
      "text/plain": [
       "(1347, 64)"
      ]
     },
     "execution_count": 17,
     "metadata": {},
     "output_type": "execute_result"
    }
   ],
   "source": [
    "X_train.shape"
   ]
  },
  {
   "cell_type": "code",
   "execution_count": 18,
   "metadata": {},
   "outputs": [
    {
     "data": {
      "text/plain": [
       "(450, 64)"
      ]
     },
     "execution_count": 18,
     "metadata": {},
     "output_type": "execute_result"
    }
   ],
   "source": [
    "X_test.shape"
   ]
  },
  {
   "cell_type": "code",
   "execution_count": 19,
   "metadata": {},
   "outputs": [
    {
     "data": {
      "text/plain": [
       "KNeighborsClassifier()"
      ]
     },
     "execution_count": 19,
     "metadata": {},
     "output_type": "execute_result"
    }
   ],
   "source": [
    "knn1.fit(X_train,y_train)"
   ]
  },
  {
   "cell_type": "code",
   "execution_count": 20,
   "metadata": {},
   "outputs": [
    {
     "data": {
      "text/plain": [
       "0.991833704528582"
      ]
     },
     "execution_count": 20,
     "metadata": {},
     "output_type": "execute_result"
    }
   ],
   "source": [
    "knn1.score(X_train,y_train)"
   ]
  },
  {
   "cell_type": "code",
   "execution_count": 21,
   "metadata": {},
   "outputs": [
    {
     "data": {
      "text/plain": [
       "0.98"
      ]
     },
     "execution_count": 21,
     "metadata": {},
     "output_type": "execute_result"
    }
   ],
   "source": [
    "knn1.score(X_test,y_test)"
   ]
  },
  {
   "cell_type": "code",
   "execution_count": 24,
   "metadata": {},
   "outputs": [],
   "source": [
    "knn2=KNeighborsClassifier(2, metric=\"manhattan\",p=2)"
   ]
  },
  {
   "cell_type": "code",
   "execution_count": 25,
   "metadata": {},
   "outputs": [
    {
     "data": {
      "text/plain": [
       "KNeighborsClassifier(metric='manhattan', n_neighbors=2)"
      ]
     },
     "execution_count": 25,
     "metadata": {},
     "output_type": "execute_result"
    }
   ],
   "source": [
    "knn2.fit(X_train,y_train)"
   ]
  },
  {
   "cell_type": "code",
   "execution_count": 27,
   "metadata": {},
   "outputs": [
    {
     "data": {
      "text/plain": [
       "0.9896065330363771"
      ]
     },
     "execution_count": 27,
     "metadata": {},
     "output_type": "execute_result"
    }
   ],
   "source": [
    "knn2.score(X_train,y_train)"
   ]
  },
  {
   "cell_type": "code",
   "execution_count": 28,
   "metadata": {},
   "outputs": [
    {
     "data": {
      "text/plain": [
       "0.9666666666666667"
      ]
     },
     "execution_count": 28,
     "metadata": {},
     "output_type": "execute_result"
    }
   ],
   "source": [
    "knn2.score(X_test,y_test)"
   ]
  },
  {
   "cell_type": "code",
   "execution_count": 33,
   "metadata": {},
   "outputs": [],
   "source": [
    "knn3=KNeighborsClassifier(3, metric=\"euclidean\",p=5)"
   ]
  },
  {
   "cell_type": "code",
   "execution_count": 34,
   "metadata": {},
   "outputs": [
    {
     "data": {
      "text/plain": [
       "KNeighborsClassifier(metric='euclidean', n_neighbors=3, p=5)"
      ]
     },
     "execution_count": 34,
     "metadata": {},
     "output_type": "execute_result"
    }
   ],
   "source": [
    "knn3.fit(X_train,y_train)"
   ]
  },
  {
   "cell_type": "code",
   "execution_count": 35,
   "metadata": {},
   "outputs": [
    {
     "data": {
      "text/plain": [
       "0.994060876020787"
      ]
     },
     "execution_count": 35,
     "metadata": {},
     "output_type": "execute_result"
    }
   ],
   "source": [
    "knn3.score(X_train,y_train)"
   ]
  },
  {
   "cell_type": "code",
   "execution_count": 36,
   "metadata": {},
   "outputs": [
    {
     "data": {
      "text/plain": [
       "0.98"
      ]
     },
     "execution_count": 36,
     "metadata": {},
     "output_type": "execute_result"
    }
   ],
   "source": [
    "knn3.score(X_test,y_test)"
   ]
  },
  {
   "cell_type": "code",
   "execution_count": null,
   "metadata": {},
   "outputs": [],
   "source": []
  }
 ],
 "metadata": {
  "kernelspec": {
   "display_name": "Python 3",
   "language": "python",
   "name": "python3"
  },
  "language_info": {
   "codemirror_mode": {
    "name": "ipython",
    "version": 3
   },
   "file_extension": ".py",
   "mimetype": "text/x-python",
   "name": "python",
   "nbconvert_exporter": "python",
   "pygments_lexer": "ipython3",
   "version": "3.7.6"
  }
 },
 "nbformat": 4,
 "nbformat_minor": 4
}
