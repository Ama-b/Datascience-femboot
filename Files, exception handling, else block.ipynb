{
 "cells": [
  {
   "cell_type": "markdown",
   "metadata": {},
   "source": [
    "## FILE"
   ]
  },
  {
   "cell_type": "markdown",
   "metadata": {},
   "source": [
    "### There are 3 things we can do to a file\n",
    "### Create a file: write\n",
    "### Modify a file: append\n",
    "### Read from a file: read"
   ]
  },
  {
   "cell_type": "code",
   "execution_count": 1,
   "metadata": {},
   "outputs": [
    {
     "data": {
      "text/plain": [
       "<_io.TextIOWrapper name='file1.txt' mode='w' encoding='cp1252'>"
      ]
     },
     "execution_count": 1,
     "metadata": {},
     "output_type": "execute_result"
    }
   ],
   "source": [
    "open(\"file1.txt\",mode=\"w\")"
   ]
  },
  {
   "cell_type": "code",
   "execution_count": 3,
   "metadata": {},
   "outputs": [],
   "source": [
    "f = open(\"file1.txt\",mode=\"w\")\n",
    "f.write(\"This is my first writeup\")\n",
    "f.close() #We always must close the file else our changes will not be saved\n"
   ]
  },
  {
   "cell_type": "code",
   "execution_count": 5,
   "metadata": {},
   "outputs": [],
   "source": [
    "f = open(\"file1.txt\",mode=\"a\")\n",
    "f.write(\"This is my second writeup\")\n",
    "f.close() #We always must close the file else our changes will not be saved\n",
    "# write function will always overide the first content and replace it with the lattest content.To solve this problem, we change the mode to append."
   ]
  },
  {
   "cell_type": "code",
   "execution_count": 6,
   "metadata": {},
   "outputs": [],
   "source": [
    "f = open(\"file2.txt\",mode=\"w\")\n",
    "f.write(\"Blessing\")\n",
    "f.close() #We always must close the file else our changes will not be saved\n"
   ]
  },
  {
   "cell_type": "code",
   "execution_count": 9,
   "metadata": {},
   "outputs": [],
   "source": [
    "f = open(\"file2.txt\",mode=\"a\")\n",
    "f.write(\"\\nAmazuiro\") # \\n is an escape code that prints numbers in the next line\n",
    "f.close()"
   ]
  },
  {
   "cell_type": "code",
   "execution_count": 12,
   "metadata": {},
   "outputs": [
    {
     "name": "stdout",
     "output_type": "stream",
     "text": [
      "This is nice. Keep it up\n"
     ]
    }
   ],
   "source": [
    "print(\"This is nice. Keep it up\")"
   ]
  },
  {
   "cell_type": "code",
   "execution_count": 13,
   "metadata": {},
   "outputs": [
    {
     "name": "stdout",
     "output_type": "stream",
     "text": [
      "This is nice. \n",
      "Keep it up\n"
     ]
    }
   ],
   "source": [
    "print(\"This is nice. \\nKeep it up\")"
   ]
  },
  {
   "cell_type": "code",
   "execution_count": 14,
   "metadata": {},
   "outputs": [
    {
     "name": "stdout",
     "output_type": "stream",
     "text": [
      "This is nice. \tKepp it up\n"
     ]
    }
   ],
   "source": [
    "print(\"This is nice. \\tKepp it up\")"
   ]
  },
  {
   "cell_type": "code",
   "execution_count": 15,
   "metadata": {},
   "outputs": [
    {
     "name": "stdout",
     "output_type": "stream",
     "text": [
      "This is nice. \t\tKepp it up\n"
     ]
    }
   ],
   "source": [
    "print(\"This is nice. \\t\\tKepp it up\")"
   ]
  },
  {
   "cell_type": "code",
   "execution_count": 16,
   "metadata": {},
   "outputs": [
    {
     "name": "stdout",
     "output_type": "stream",
     "text": [
      "Blessing\n",
      "Blessing\n",
      "Amazuiro\n",
      "Amazuiro\n",
      "Amazuiro\n",
      "Amazuiro\n",
      "Amazuiro\n",
      "Amazuiro\n",
      "Amazuiro\n",
      "Amazuiro\n",
      "Amazuiro\n"
     ]
    }
   ],
   "source": [
    "f=open(\"file2.txt\",mode=\"r\")\n",
    "content=f.read()\n",
    "f.close()\n",
    "print(content)"
   ]
  },
  {
   "cell_type": "markdown",
   "metadata": {},
   "source": [
    "## readlines(): This method will read the entire content of the file at a time WHILE readline(): This method will read one line in a file.A new line character is left at the string end and is ignored for the last line provided the file does not finish in a new line."
   ]
  },
  {
   "cell_type": "code",
   "execution_count": 17,
   "metadata": {},
   "outputs": [
    {
     "name": "stdout",
     "output_type": "stream",
     "text": [
      "This is my second writeupThis is my second writeup\n"
     ]
    }
   ],
   "source": [
    "f=open(\"file1.txt\",mode=\"r\")\n",
    "content=f.readline()\n",
    "f.close()\n",
    "print(content)"
   ]
  },
  {
   "cell_type": "code",
   "execution_count": 19,
   "metadata": {},
   "outputs": [
    {
     "name": "stdout",
     "output_type": "stream",
     "text": [
      "['Blessing\\n', 'Blessing\\n', 'Amazuiro\\n', 'Amazuiro\\n', 'Amazuiro\\n', 'Amazuiro\\n', 'Amazuiro\\n', 'Amazuiro\\n', 'Amazuiro\\n', 'Amazuiro\\n', 'Amazuiro']\n"
     ]
    }
   ],
   "source": [
    "f=open(\"file2.txt\",mode=\"r\")\n",
    "content=f.readlines()\n",
    "f.close()\n",
    "print(content)"
   ]
  },
  {
   "cell_type": "markdown",
   "metadata": {},
   "source": [
    "## Exception handling : These are errors that occur while your code is running\n"
   ]
  },
  {
   "cell_type": "code",
   "execution_count": 1,
   "metadata": {},
   "outputs": [
    {
     "name": "stdout",
     "output_type": "stream",
     "text": [
      "Enter a number: 12\n",
      "Enter a number: 3\n",
      "The value of p is 4.0\n"
     ]
    }
   ],
   "source": [
    "a=int(input(\"Enter a number: \"))\n",
    "b=int(input(\"Enter a number: \"))\n",
    "p=a/b\n",
    "print(f\"The value of p is {round(p,2)}\")"
   ]
  },
  {
   "cell_type": "code",
   "execution_count": 2,
   "metadata": {},
   "outputs": [
    {
     "name": "stdout",
     "output_type": "stream",
     "text": [
      "Enter a number: 23\n",
      "Enter a number: 0\n",
      "Ooops! Something went wrong\n"
     ]
    }
   ],
   "source": [
    "try:\n",
    "    a=int(input(\"Enter a number: \"))\n",
    "    b=int(input(\"Enter a number: \"))\n",
    "    p=a/b\n",
    "    print(f\"The value of p is {round(p,2)}\")\n",
    "except:\n",
    "    print(\"Ooops! Something went wrong\")"
   ]
  },
  {
   "cell_type": "code",
   "execution_count": 4,
   "metadata": {},
   "outputs": [
    {
     "name": "stdout",
     "output_type": "stream",
     "text": [
      "Enter a number: 2.3\n"
     ]
    },
    {
     "ename": "ValueError",
     "evalue": "invalid literal for int() with base 10: '2.3'",
     "output_type": "error",
     "traceback": [
      "\u001b[1;31m---------------------------------------------------------------------------\u001b[0m",
      "\u001b[1;31mValueError\u001b[0m                                Traceback (most recent call last)",
      "\u001b[1;32m<ipython-input-4-c9e76eb94c20>\u001b[0m in \u001b[0;36m<module>\u001b[1;34m\u001b[0m\n\u001b[0;32m      1\u001b[0m \u001b[1;32mtry\u001b[0m\u001b[1;33m:\u001b[0m\u001b[1;33m\u001b[0m\u001b[1;33m\u001b[0m\u001b[0m\n\u001b[1;32m----> 2\u001b[1;33m     \u001b[0ma\u001b[0m\u001b[1;33m=\u001b[0m\u001b[0mint\u001b[0m\u001b[1;33m(\u001b[0m\u001b[0minput\u001b[0m\u001b[1;33m(\u001b[0m\u001b[1;34m\"Enter a number: \"\u001b[0m\u001b[1;33m)\u001b[0m\u001b[1;33m)\u001b[0m\u001b[1;33m\u001b[0m\u001b[1;33m\u001b[0m\u001b[0m\n\u001b[0m\u001b[0;32m      3\u001b[0m     \u001b[0mb\u001b[0m\u001b[1;33m=\u001b[0m\u001b[0mint\u001b[0m\u001b[1;33m(\u001b[0m\u001b[0minput\u001b[0m\u001b[1;33m(\u001b[0m\u001b[1;34m\"Enter a number: \"\u001b[0m\u001b[1;33m)\u001b[0m\u001b[1;33m)\u001b[0m\u001b[1;33m\u001b[0m\u001b[1;33m\u001b[0m\u001b[0m\n\u001b[0;32m      4\u001b[0m     \u001b[0mp\u001b[0m\u001b[1;33m=\u001b[0m\u001b[0ma\u001b[0m\u001b[1;33m/\u001b[0m\u001b[0mb\u001b[0m\u001b[1;33m\u001b[0m\u001b[1;33m\u001b[0m\u001b[0m\n\u001b[0;32m      5\u001b[0m     \u001b[0mprint\u001b[0m\u001b[1;33m(\u001b[0m\u001b[1;34mf\"The value of p is {round(p,2)}\"\u001b[0m\u001b[1;33m)\u001b[0m\u001b[1;33m\u001b[0m\u001b[1;33m\u001b[0m\u001b[0m\n",
      "\u001b[1;31mValueError\u001b[0m: invalid literal for int() with base 10: '2.3'"
     ]
    }
   ],
   "source": [
    "try:\n",
    "    a=int(input(\"Enter a number: \"))\n",
    "    b=int(input(\"Enter a number: \"))\n",
    "    p=a/b\n",
    "    print(f\"The value of p is {round(p,2)}\")\n",
    "except ZeroDivisionError:\n",
    "    print(\"Ooops! Something went wrong\")"
   ]
  },
  {
   "cell_type": "code",
   "execution_count": 6,
   "metadata": {},
   "outputs": [
    {
     "name": "stdout",
     "output_type": "stream",
     "text": [
      "Enter a number: 9.3\n",
      "Input must be an integer\n"
     ]
    }
   ],
   "source": [
    "try:\n",
    "    a=int(input(\"Enter a number: \"))\n",
    "    b=int(input(\"Enter a number: \"))\n",
    "    p=a/b\n",
    "    print(f\"The value of p is {round(p,2)}\")\n",
    "except ZeroDivisionError:\n",
    "    print(\"Sorry. Cannot divide by 0\")\n",
    "except ValueError:\n",
    "    print(\"Input must be an integer\")\n",
    "except:\n",
    "    print(\"You did something wrong\")"
   ]
  },
  {
   "cell_type": "markdown",
   "metadata": {},
   "source": [
    "## Else block\n",
    "### If there is no exception then this block will be executed. The code enters the else block only if the try clause does not raise an exception."
   ]
  },
  {
   "cell_type": "code",
   "execution_count": 7,
   "metadata": {},
   "outputs": [
    {
     "name": "stdout",
     "output_type": "stream",
     "text": [
      "Enter a number: 12\n",
      "Enter a number: 3\n",
      "The value of p is 4.0\n",
      "Yes your answer is: 4.0\n"
     ]
    }
   ],
   "source": [
    "try:\n",
    "    a=int(input(\"Enter a number: \"))\n",
    "    b=int(input(\"Enter a number: \"))\n",
    "    p=a/b\n",
    "    print(f\"The value of p is {round(p,2)}\")\n",
    "except ZeroDivisionError:\n",
    "    print(\"Sorry. Cannot divide by 0\")\n",
    "except ValueError:\n",
    "    print(\"Input must be an integer\")\n",
    "except:\n",
    "    print(\"You did something wrong\")\n",
    "else:\n",
    "    print(\"Yes your answer is:\", p)"
   ]
  },
  {
   "cell_type": "markdown",
   "metadata": {},
   "source": [
    "## Finally\n",
    "###  This is always executed after try and except blocks. The finally block always executes after normal termination of try block or after try block terminates due to some exception."
   ]
  },
  {
   "cell_type": "code",
   "execution_count": 8,
   "metadata": {},
   "outputs": [
    {
     "name": "stdout",
     "output_type": "stream",
     "text": [
      "Enter a number: 12\n",
      "Enter a number: 4\n",
      "The value of p is 3.0\n",
      "Yes your answer is: 3.0\n",
      "This is always executed\n"
     ]
    }
   ],
   "source": [
    "try:\n",
    "    a=int(input(\"Enter a number: \"))\n",
    "    b=int(input(\"Enter a number: \"))\n",
    "    p=a/b\n",
    "    print(f\"The value of p is {round(p,2)}\")\n",
    "except ZeroDivisionError:\n",
    "    print(\"Sorry. Cannot divide by 0\")\n",
    "except ValueError:\n",
    "    print(\"Input must be an integer\")\n",
    "except:\n",
    "    print(\"You did something wrong\")\n",
    "else:\n",
    "    print(\"Yes your answer is:\", p)\n",
    "finally:\n",
    "    print(\"This is always executed\")"
   ]
  },
  {
   "cell_type": "code",
   "execution_count": null,
   "metadata": {},
   "outputs": [],
   "source": []
  }
 ],
 "metadata": {
  "kernelspec": {
   "display_name": "Python 3",
   "language": "python",
   "name": "python3"
  },
  "language_info": {
   "codemirror_mode": {
    "name": "ipython",
    "version": 3
   },
   "file_extension": ".py",
   "mimetype": "text/x-python",
   "name": "python",
   "nbconvert_exporter": "python",
   "pygments_lexer": "ipython3",
   "version": "3.7.6"
  }
 },
 "nbformat": 4,
 "nbformat_minor": 4
}
