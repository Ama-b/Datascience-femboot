{
 "cells": [
  {
   "cell_type": "code",
   "execution_count": 1,
   "metadata": {},
   "outputs": [
    {
     "ename": "TypeError",
     "evalue": "cannot unpack non-iterable int object",
     "output_type": "error",
     "traceback": [
      "\u001b[1;31m---------------------------------------------------------------------------\u001b[0m",
      "\u001b[1;31mTypeError\u001b[0m                                 Traceback (most recent call last)",
      "\u001b[1;32m<ipython-input-1-c5ce1d0a4c25>\u001b[0m in \u001b[0;36m<module>\u001b[1;34m\u001b[0m\n\u001b[0;32m      1\u001b[0m \u001b[0mn\u001b[0m\u001b[1;33m=\u001b[0m\u001b[1;36m5\u001b[0m\u001b[1;33m\u001b[0m\u001b[1;33m\u001b[0m\u001b[0m\n\u001b[0;32m      2\u001b[0m \u001b[0mp\u001b[0m\u001b[1;33m=\u001b[0m\u001b[1;36m4\u001b[0m\u001b[1;33m\u001b[0m\u001b[1;33m\u001b[0m\u001b[0m\n\u001b[1;32m----> 3\u001b[1;33m \u001b[0mgridSearchCV\u001b[0m\u001b[1;33m,\u001b[0m \u001b[0mcv\u001b[0m\u001b[1;33m=\u001b[0m\u001b[1;36m5\u001b[0m\u001b[1;33m\u001b[0m\u001b[1;33m\u001b[0m\u001b[0m\n\u001b[0m\u001b[0;32m      4\u001b[0m \u001b[0mrandomiseSearchCV\u001b[0m\u001b[1;33m\u001b[0m\u001b[1;33m\u001b[0m\u001b[0m\n",
      "\u001b[1;31mTypeError\u001b[0m: cannot unpack non-iterable int object"
     ]
    }
   ],
   "source": [
    "n=5\n",
    "p=4\n",
    "gridSearchCV, cv=5\n",
    "randomiseSearchCV"
   ]
  },
  {
   "cell_type": "code",
   "execution_count": 2,
   "metadata": {},
   "outputs": [],
   "source": [
    "from sklearn.datasets import load_breast_cancer"
   ]
  },
  {
   "cell_type": "code",
   "execution_count": 3,
   "metadata": {},
   "outputs": [],
   "source": [
    "cancer=load_breast_cancer()"
   ]
  },
  {
   "cell_type": "code",
   "execution_count": 4,
   "metadata": {},
   "outputs": [],
   "source": [
    "X=cancer.data"
   ]
  },
  {
   "cell_type": "code",
   "execution_count": 5,
   "metadata": {},
   "outputs": [],
   "source": [
    "y=cancer.target"
   ]
  },
  {
   "cell_type": "code",
   "execution_count": 6,
   "metadata": {},
   "outputs": [],
   "source": [
    "from sklearn.neighbors import KNeighborsClassifier"
   ]
  },
  {
   "cell_type": "code",
   "execution_count": 7,
   "metadata": {},
   "outputs": [],
   "source": [
    "knn=KNeighborsClassifier()"
   ]
  },
  {
   "cell_type": "code",
   "execution_count": 8,
   "metadata": {},
   "outputs": [],
   "source": [
    "from sklearn.model_selection import GridSearchCV"
   ]
  },
  {
   "cell_type": "code",
   "execution_count": 9,
   "metadata": {},
   "outputs": [],
   "source": [
    "## The code below does a k-fold cross validation using different parameter tunes"
   ]
  },
  {
   "cell_type": "code",
   "execution_count": 10,
   "metadata": {},
   "outputs": [],
   "source": [
    "model=GridSearchCV(knn,param_grid={\"p\":[2,1,4,6],\"n_neighbors\":[2,3,4,5,6]},cv=5)"
   ]
  },
  {
   "cell_type": "code",
   "execution_count": 11,
   "metadata": {},
   "outputs": [
    {
     "data": {
      "text/plain": [
       "GridSearchCV(cv=5, estimator=KNeighborsClassifier(),\n",
       "             param_grid={'n_neighbors': [2, 3, 4, 5, 6], 'p': [2, 1, 4, 6]})"
      ]
     },
     "execution_count": 11,
     "metadata": {},
     "output_type": "execute_result"
    }
   ],
   "source": [
    "model"
   ]
  },
  {
   "cell_type": "code",
   "execution_count": 14,
   "metadata": {},
   "outputs": [
    {
     "data": {
      "text/plain": [
       "GridSearchCV(cv=5, estimator=KNeighborsClassifier(),\n",
       "             param_grid={'n_neighbors': [2, 3, 4, 5, 6], 'p': [2, 1, 4, 6]})"
      ]
     },
     "execution_count": 14,
     "metadata": {},
     "output_type": "execute_result"
    }
   ],
   "source": [
    "model.fit(X,y)"
   ]
  },
  {
   "cell_type": "code",
   "execution_count": 15,
   "metadata": {},
   "outputs": [
    {
     "data": {
      "text/plain": [
       "0.9525483304042179"
      ]
     },
     "execution_count": 15,
     "metadata": {},
     "output_type": "execute_result"
    }
   ],
   "source": [
    "model.score(X,y)"
   ]
  },
  {
   "cell_type": "code",
   "execution_count": 17,
   "metadata": {},
   "outputs": [
    {
     "data": {
      "text/plain": [
       "{'cv': 5,\n",
       " 'error_score': nan,\n",
       " 'estimator__algorithm': 'auto',\n",
       " 'estimator__leaf_size': 30,\n",
       " 'estimator__metric': 'minkowski',\n",
       " 'estimator__metric_params': None,\n",
       " 'estimator__n_jobs': None,\n",
       " 'estimator__n_neighbors': 5,\n",
       " 'estimator__p': 2,\n",
       " 'estimator__weights': 'uniform',\n",
       " 'estimator': KNeighborsClassifier(),\n",
       " 'iid': 'deprecated',\n",
       " 'n_jobs': None,\n",
       " 'param_grid': {'p': [2, 1, 4, 6], 'n_neighbors': [2, 3, 4, 5, 6]},\n",
       " 'pre_dispatch': '2*n_jobs',\n",
       " 'refit': True,\n",
       " 'return_train_score': False,\n",
       " 'scoring': None,\n",
       " 'verbose': 0}"
      ]
     },
     "execution_count": 17,
     "metadata": {},
     "output_type": "execute_result"
    }
   ],
   "source": [
    "model.get_params()"
   ]
  },
  {
   "cell_type": "code",
   "execution_count": 19,
   "metadata": {},
   "outputs": [
    {
     "data": {
      "text/plain": [
       "{'n_neighbors': 6, 'p': 1}"
      ]
     },
     "execution_count": 19,
     "metadata": {},
     "output_type": "execute_result"
    }
   ],
   "source": [
    "model.best_params_"
   ]
  },
  {
   "cell_type": "code",
   "execution_count": 20,
   "metadata": {},
   "outputs": [
    {
     "data": {
      "text/plain": [
       "{'mean_fit_time': array([0.00479779, 0.00159974, 0.00319991, 0.        , 0.00159974,\n",
       "        0.00159998, 0.00479984, 0.0032002 , 0.00319972, 0.00160003,\n",
       "        0.        , 0.        , 0.00159993, 0.00159993, 0.00799942,\n",
       "        0.        , 0.00160036, 0.00159993, 0.0047996 , 0.00800419]),\n",
       " 'std_fit_time': array([3.91738123e-03, 3.19948196e-03, 3.91907475e-03, 0.00000000e+00,\n",
       "        3.19948196e-03, 3.19995880e-03, 3.91905528e-03, 3.91942513e-03,\n",
       "        3.91884119e-03, 3.20005417e-03, 0.00000000e+00, 0.00000000e+00,\n",
       "        3.19986343e-03, 3.19986343e-03, 6.39744180e-07, 0.00000000e+00,\n",
       "        3.20072174e-03, 3.19986343e-03, 3.91886060e-03, 8.71842989e-06]),\n",
       " 'mean_score_time': array([0.00800409, 0.00319963, 0.01119986, 0.01439886, 0.0047997 ,\n",
       "        0.00639954, 0.00799875, 0.01599808, 0.0032001 , 0.00479922,\n",
       "        0.01439829, 0.01439881, 0.0047997 , 0.0047996 , 0.00799451,\n",
       "        0.01599822, 0.00479937, 0.00479946, 0.01279869, 0.0079988 ]),\n",
       " 'std_score_time': array([5.05890803e-03, 3.91872433e-03, 3.91981479e-03, 3.19924362e-03,\n",
       "        3.91893853e-03, 3.19976810e-03, 5.72204590e-07, 5.05929559e-03,\n",
       "        3.91930834e-03, 3.91854914e-03, 3.19919588e-03, 3.19957734e-03,\n",
       "        3.91893851e-03, 3.91886062e-03, 8.77639483e-06, 3.56832255e-07,\n",
       "        3.91866593e-03, 3.91874380e-03, 3.91900701e-03, 5.35248383e-07]),\n",
       " 'param_n_neighbors': masked_array(data=[2, 2, 2, 2, 3, 3, 3, 3, 4, 4, 4, 4, 5, 5, 5, 5, 6, 6,\n",
       "                    6, 6],\n",
       "              mask=[False, False, False, False, False, False, False, False,\n",
       "                    False, False, False, False, False, False, False, False,\n",
       "                    False, False, False, False],\n",
       "        fill_value='?',\n",
       "             dtype=object),\n",
       " 'param_p': masked_array(data=[2, 1, 4, 6, 2, 1, 4, 6, 2, 1, 4, 6, 2, 1, 4, 6, 2, 1,\n",
       "                    4, 6],\n",
       "              mask=[False, False, False, False, False, False, False, False,\n",
       "                    False, False, False, False, False, False, False, False,\n",
       "                    False, False, False, False],\n",
       "        fill_value='?',\n",
       "             dtype=object),\n",
       " 'params': [{'n_neighbors': 2, 'p': 2},\n",
       "  {'n_neighbors': 2, 'p': 1},\n",
       "  {'n_neighbors': 2, 'p': 4},\n",
       "  {'n_neighbors': 2, 'p': 6},\n",
       "  {'n_neighbors': 3, 'p': 2},\n",
       "  {'n_neighbors': 3, 'p': 1},\n",
       "  {'n_neighbors': 3, 'p': 4},\n",
       "  {'n_neighbors': 3, 'p': 6},\n",
       "  {'n_neighbors': 4, 'p': 2},\n",
       "  {'n_neighbors': 4, 'p': 1},\n",
       "  {'n_neighbors': 4, 'p': 4},\n",
       "  {'n_neighbors': 4, 'p': 6},\n",
       "  {'n_neighbors': 5, 'p': 2},\n",
       "  {'n_neighbors': 5, 'p': 1},\n",
       "  {'n_neighbors': 5, 'p': 4},\n",
       "  {'n_neighbors': 5, 'p': 6},\n",
       "  {'n_neighbors': 6, 'p': 2},\n",
       "  {'n_neighbors': 6, 'p': 1},\n",
       "  {'n_neighbors': 6, 'p': 4},\n",
       "  {'n_neighbors': 6, 'p': 6}],\n",
       " 'split0_test_score': array([0.89473684, 0.89473684, 0.86842105, 0.86842105, 0.87719298,\n",
       "        0.89473684, 0.88596491, 0.88596491, 0.89473684, 0.90350877,\n",
       "        0.88596491, 0.87719298, 0.88596491, 0.89473684, 0.86842105,\n",
       "        0.86842105, 0.89473684, 0.88596491, 0.88596491, 0.88596491]),\n",
       " 'split1_test_score': array([0.9122807 , 0.93859649, 0.9122807 , 0.9122807 , 0.92105263,\n",
       "        0.92982456, 0.92105263, 0.92105263, 0.92105263, 0.92105263,\n",
       "        0.92105263, 0.92105263, 0.93859649, 0.92982456, 0.93859649,\n",
       "        0.93859649, 0.93859649, 0.92982456, 0.93859649, 0.93859649]),\n",
       " 'split2_test_score': array([0.92982456, 0.93859649, 0.92982456, 0.92982456, 0.94736842,\n",
       "        0.95614035, 0.92982456, 0.92982456, 0.94736842, 0.95614035,\n",
       "        0.93859649, 0.93859649, 0.93859649, 0.95614035, 0.93859649,\n",
       "        0.93859649, 0.93859649, 0.97368421, 0.93859649, 0.93859649]),\n",
       " 'split3_test_score': array([0.89473684, 0.90350877, 0.88596491, 0.88596491, 0.93859649,\n",
       "        0.93859649, 0.92105263, 0.92105263, 0.93859649, 0.94736842,\n",
       "        0.92982456, 0.92105263, 0.94736842, 0.94736842, 0.94736842,\n",
       "        0.94736842, 0.92982456, 0.95614035, 0.93859649, 0.93859649]),\n",
       " 'split4_test_score': array([0.89380531, 0.89380531, 0.88495575, 0.88495575, 0.91150442,\n",
       "        0.92035398, 0.89380531, 0.89380531, 0.90265487, 0.92920354,\n",
       "        0.90265487, 0.90265487, 0.92920354, 0.92920354, 0.91150442,\n",
       "        0.92035398, 0.92035398, 0.9380531 , 0.92035398, 0.92035398]),\n",
       " 'mean_test_score': array([0.90507685, 0.91384878, 0.8962894 , 0.8962894 , 0.91914299,\n",
       "        0.92793045, 0.91034001, 0.91034001, 0.92088185, 0.93145474,\n",
       "        0.91561869, 0.91210992, 0.92794597, 0.93145474, 0.92089738,\n",
       "        0.92266729, 0.92442167, 0.93673343, 0.92442167, 0.92442167]),\n",
       " 'std_test_score': array([0.01417903, 0.02048815, 0.02187245, 0.02187245, 0.02448228,\n",
       "        0.02035863, 0.01718552, 0.01718552, 0.0201552 , 0.01874499,\n",
       "        0.01900906, 0.02083302, 0.02176276, 0.02106444, 0.02887638,\n",
       "        0.02851537, 0.01630201, 0.02955979, 0.02048534, 0.02048534]),\n",
       " 'rank_test_score': array([18, 14, 19, 19, 12,  5, 16, 16, 11,  2, 13, 15,  4,  2, 10,  9,  6,\n",
       "         1,  6,  6])}"
      ]
     },
     "execution_count": 20,
     "metadata": {},
     "output_type": "execute_result"
    }
   ],
   "source": [
    "model.cv_results_"
   ]
  },
  {
   "cell_type": "code",
   "execution_count": null,
   "metadata": {},
   "outputs": [],
   "source": []
  }
 ],
 "metadata": {
  "kernelspec": {
   "display_name": "Python 3",
   "language": "python",
   "name": "python3"
  },
  "language_info": {
   "codemirror_mode": {
    "name": "ipython",
    "version": 3
   },
   "file_extension": ".py",
   "mimetype": "text/x-python",
   "name": "python",
   "nbconvert_exporter": "python",
   "pygments_lexer": "ipython3",
   "version": "3.7.6"
  }
 },
 "nbformat": 4,
 "nbformat_minor": 4
}
