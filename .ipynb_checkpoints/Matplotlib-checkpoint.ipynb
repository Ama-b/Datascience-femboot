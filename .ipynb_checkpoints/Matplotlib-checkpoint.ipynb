{
 "cells": [
  {
   "cell_type": "code",
   "execution_count": 1,
   "metadata": {},
   "outputs": [],
   "source": [
    "import numpy as np"
   ]
  },
  {
   "cell_type": "code",
   "execution_count": 2,
   "metadata": {},
   "outputs": [],
   "source": [
    "x=np.linspace(-15,15)"
   ]
  },
  {
   "cell_type": "code",
   "execution_count": 3,
   "metadata": {},
   "outputs": [
    {
     "data": {
      "text/plain": [
       "array([-15.        , -14.3877551 , -13.7755102 , -13.16326531,\n",
       "       -12.55102041, -11.93877551, -11.32653061, -10.71428571,\n",
       "       -10.10204082,  -9.48979592,  -8.87755102,  -8.26530612,\n",
       "        -7.65306122,  -7.04081633,  -6.42857143,  -5.81632653,\n",
       "        -5.20408163,  -4.59183673,  -3.97959184,  -3.36734694,\n",
       "        -2.75510204,  -2.14285714,  -1.53061224,  -0.91836735,\n",
       "        -0.30612245,   0.30612245,   0.91836735,   1.53061224,\n",
       "         2.14285714,   2.75510204,   3.36734694,   3.97959184,\n",
       "         4.59183673,   5.20408163,   5.81632653,   6.42857143,\n",
       "         7.04081633,   7.65306122,   8.26530612,   8.87755102,\n",
       "         9.48979592,  10.10204082,  10.71428571,  11.32653061,\n",
       "        11.93877551,  12.55102041,  13.16326531,  13.7755102 ,\n",
       "        14.3877551 ,  15.        ])"
      ]
     },
     "execution_count": 3,
     "metadata": {},
     "output_type": "execute_result"
    }
   ],
   "source": [
    "x"
   ]
  },
  {
   "cell_type": "code",
   "execution_count": 4,
   "metadata": {},
   "outputs": [
    {
     "data": {
      "text/plain": [
       "(50,)"
      ]
     },
     "execution_count": 4,
     "metadata": {},
     "output_type": "execute_result"
    }
   ],
   "source": [
    "x.shape"
   ]
  },
  {
   "cell_type": "code",
   "execution_count": 5,
   "metadata": {},
   "outputs": [],
   "source": [
    "x=np.linspace(-15,15,100)"
   ]
  },
  {
   "cell_type": "code",
   "execution_count": 6,
   "metadata": {},
   "outputs": [
    {
     "data": {
      "text/plain": [
       "array([-15.        , -14.6969697 , -14.39393939, -14.09090909,\n",
       "       -13.78787879, -13.48484848, -13.18181818, -12.87878788,\n",
       "       -12.57575758, -12.27272727, -11.96969697, -11.66666667,\n",
       "       -11.36363636, -11.06060606, -10.75757576, -10.45454545,\n",
       "       -10.15151515,  -9.84848485,  -9.54545455,  -9.24242424,\n",
       "        -8.93939394,  -8.63636364,  -8.33333333,  -8.03030303,\n",
       "        -7.72727273,  -7.42424242,  -7.12121212,  -6.81818182,\n",
       "        -6.51515152,  -6.21212121,  -5.90909091,  -5.60606061,\n",
       "        -5.3030303 ,  -5.        ,  -4.6969697 ,  -4.39393939,\n",
       "        -4.09090909,  -3.78787879,  -3.48484848,  -3.18181818,\n",
       "        -2.87878788,  -2.57575758,  -2.27272727,  -1.96969697,\n",
       "        -1.66666667,  -1.36363636,  -1.06060606,  -0.75757576,\n",
       "        -0.45454545,  -0.15151515,   0.15151515,   0.45454545,\n",
       "         0.75757576,   1.06060606,   1.36363636,   1.66666667,\n",
       "         1.96969697,   2.27272727,   2.57575758,   2.87878788,\n",
       "         3.18181818,   3.48484848,   3.78787879,   4.09090909,\n",
       "         4.39393939,   4.6969697 ,   5.        ,   5.3030303 ,\n",
       "         5.60606061,   5.90909091,   6.21212121,   6.51515152,\n",
       "         6.81818182,   7.12121212,   7.42424242,   7.72727273,\n",
       "         8.03030303,   8.33333333,   8.63636364,   8.93939394,\n",
       "         9.24242424,   9.54545455,   9.84848485,  10.15151515,\n",
       "        10.45454545,  10.75757576,  11.06060606,  11.36363636,\n",
       "        11.66666667,  11.96969697,  12.27272727,  12.57575758,\n",
       "        12.87878788,  13.18181818,  13.48484848,  13.78787879,\n",
       "        14.09090909,  14.39393939,  14.6969697 ,  15.        ])"
      ]
     },
     "execution_count": 6,
     "metadata": {},
     "output_type": "execute_result"
    }
   ],
   "source": [
    "x"
   ]
  },
  {
   "cell_type": "markdown",
   "metadata": {},
   "source": [
    "## $$ y=2e^x $$"
   ]
  },
  {
   "cell_type": "code",
   "execution_count": 7,
   "metadata": {},
   "outputs": [
    {
     "data": {
      "text/plain": [
       "2.718281828459045"
      ]
     },
     "execution_count": 7,
     "metadata": {},
     "output_type": "execute_result"
    }
   ],
   "source": [
    "np.e"
   ]
  },
  {
   "cell_type": "code",
   "execution_count": 8,
   "metadata": {},
   "outputs": [
    {
     "data": {
      "text/plain": [
       "2.718281828459045"
      ]
     },
     "execution_count": 8,
     "metadata": {},
     "output_type": "execute_result"
    }
   ],
   "source": [
    "np.exp(1)"
   ]
  },
  {
   "cell_type": "code",
   "execution_count": 9,
   "metadata": {},
   "outputs": [
    {
     "data": {
      "text/plain": [
       "7.3890560989306495"
      ]
     },
     "execution_count": 9,
     "metadata": {},
     "output_type": "execute_result"
    }
   ],
   "source": [
    "np.e**2"
   ]
  },
  {
   "cell_type": "code",
   "execution_count": 10,
   "metadata": {},
   "outputs": [
    {
     "data": {
      "text/plain": [
       "7.38905609893065"
      ]
     },
     "execution_count": 10,
     "metadata": {},
     "output_type": "execute_result"
    }
   ],
   "source": [
    "np.exp(2)"
   ]
  },
  {
   "cell_type": "code",
   "execution_count": 11,
   "metadata": {},
   "outputs": [],
   "source": [
    "y=2*np.e**x"
   ]
  },
  {
   "cell_type": "code",
   "execution_count": 12,
   "metadata": {},
   "outputs": [
    {
     "data": {
      "text/plain": [
       "array([6.11804641e-07, 8.28356254e-07, 1.12155750e-06, 1.51853894e-06,\n",
       "       2.05603414e-06, 2.78377871e-06, 3.76911248e-06, 5.10321054e-06,\n",
       "       6.90951994e-06, 9.35518248e-06, 1.26665007e-05, 1.71498782e-05,\n",
       "       2.32201718e-05, 3.14390791e-05, 4.25671139e-05, 5.76339777e-05,\n",
       "       7.80338406e-05, 1.05654347e-04, 1.43051284e-04, 1.93685071e-04,\n",
       "       2.62240966e-04, 3.55062597e-04, 4.80738953e-04, 6.50899146e-04,\n",
       "       8.81288474e-04, 1.19322537e-03, 1.61557404e-03, 2.18741535e-03,\n",
       "       2.96166303e-03, 4.00995992e-03, 5.42930727e-03, 7.35104039e-03,\n",
       "       9.95298152e-03, 1.34758940e-02, 1.82457607e-02, 2.47039479e-02,\n",
       "       3.34480460e-02, 4.52871656e-02, 6.13168066e-02, 8.30202271e-02,\n",
       "       1.12405692e-01, 1.52192305e-01, 2.06061607e-01, 2.78998245e-01,\n",
       "       3.77751206e-01, 5.11458320e-01, 6.92491801e-01, 9.37603078e-01,\n",
       "       1.26947284e+00, 1.71880972e+00, 2.32719186e+00, 3.15091421e+00,\n",
       "       4.26619760e+00, 5.77624167e+00, 7.82077414e+00, 1.05889801e+01,\n",
       "       1.43370078e+01, 1.94116704e+01, 2.62825378e+01, 3.55853864e+01,\n",
       "       4.81810294e+01, 6.52349694e+01, 8.83252451e+01, 1.19588451e+02,\n",
       "       1.61917440e+02, 2.19229007e+02, 2.96826318e+02, 4.01889624e+02,\n",
       "       5.44140664e+02, 7.36742241e+02, 9.97516203e+02, 1.35059254e+03,\n",
       "       1.82864219e+03, 2.47590014e+03, 3.35225859e+03, 4.53880894e+03,\n",
       "       6.14534529e+03, 8.32052401e+03, 1.12656192e+04, 1.52531470e+04,\n",
       "       2.06520821e+04, 2.79620000e+04, 3.78593035e+04, 5.12598120e+04,\n",
       "       6.94035040e+04, 9.39692555e+04, 1.27230190e+05, 1.72264014e+05,\n",
       "       2.33237808e+05, 3.15793611e+05, 4.27570495e+05, 5.78911420e+05,\n",
       "       7.83820296e+05, 1.06125780e+06, 1.43689582e+06, 1.94549299e+06,\n",
       "       2.63411092e+06, 3.56646895e+06, 4.82884022e+06, 6.53803474e+06])"
      ]
     },
     "execution_count": 12,
     "metadata": {},
     "output_type": "execute_result"
    }
   ],
   "source": [
    "y"
   ]
  },
  {
   "cell_type": "code",
   "execution_count": 13,
   "metadata": {},
   "outputs": [],
   "source": [
    "import matplotlib.pyplot as plt"
   ]
  },
  {
   "cell_type": "code",
   "execution_count": 14,
   "metadata": {},
   "outputs": [
    {
     "data": {
      "text/plain": [
       "[<matplotlib.lines.Line2D at 0x1b1654adf08>]"
      ]
     },
     "execution_count": 14,
     "metadata": {},
     "output_type": "execute_result"
    },
    {
     "data": {
      "image/png": "[encoded data removed]",
      "text/plain": [
       "<Figure size 432x288 with 1 Axes>"
      ]
     },
     "metadata": {
      "needs_background": "light"
     },
     "output_type": "display_data"
    }
   ],
   "source": [
    "plt.plot(x,y)"
   ]
  },
  {
   "cell_type": "markdown",
   "metadata": {},
   "source": [
    "## $$ y=2e^{-2x} $$"
   ]
  },
  {
   "cell_type": "code",
   "execution_count": 15,
   "metadata": {},
   "outputs": [],
   "source": [
    "y1=y"
   ]
  },
  {
   "cell_type": "code",
   "execution_count": 16,
   "metadata": {},
   "outputs": [],
   "source": [
    "y2=2*np.e**(-x)"
   ]
  },
  {
   "cell_type": "code",
   "execution_count": 17,
   "metadata": {},
   "outputs": [
    {
     "data": {
      "text/plain": [
       "[<matplotlib.lines.Line2D at 0x1b16760e5c8>]"
      ]
     },
     "execution_count": 17,
     "metadata": {},
     "output_type": "execute_result"
    },
    {
     "data": {
      "image/png": "[encoded data removed]",
      "text/plain": [
       "<Figure size 432x288 with 1 Axes>"
      ]
     },
     "metadata": {
      "needs_background": "light"
     },
     "output_type": "display_data"
    }
   ],
   "source": [
    "plt.plot(x,y2,label=\"graph of y=2exp(-x)\")\n",
    "plt.plot(x,y1,label=\"graph of y=2exp(x)\")"
   ]
  },
  {
   "cell_type": "code",
   "execution_count": 18,
   "metadata": {},
   "outputs": [],
   "source": [
    "z=np.random.randint(10,50,40)"
   ]
  },
  {
   "cell_type": "code",
   "execution_count": 19,
   "metadata": {},
   "outputs": [
    {
     "data": {
      "image/png": "[encoded data removed]",
      "text/plain": [
       "<Figure size 432x288 with 1 Axes>"
      ]
     },
     "metadata": {
      "needs_background": "light"
     },
     "output_type": "display_data"
    }
   ],
   "source": [
    "plt.boxplot(z);\n",
    "plt.grid(True)"
   ]
  },
  {
   "cell_type": "code",
   "execution_count": 20,
   "metadata": {},
   "outputs": [
    {
     "data": {
      "text/plain": [
       "26.0"
      ]
     },
     "execution_count": 20,
     "metadata": {},
     "output_type": "execute_result"
    }
   ],
   "source": [
    "np.median(z)"
   ]
  },
  {
   "cell_type": "code",
   "execution_count": 21,
   "metadata": {},
   "outputs": [],
   "source": [
    "z[10]=150"
   ]
  },
  {
   "cell_type": "code",
   "execution_count": 22,
   "metadata": {},
   "outputs": [
    {
     "data": {
      "text/plain": [
       "array([ 23,  42,  12,  38,  30,  24,  44,  11,  38,  44, 150,  17,  14,\n",
       "        38,  27,  47,  31,  25,  23,  15,  23,  45,  44,  46,  37,  31,\n",
       "        19,  22,  23,  44,  46,  22,  25,  24,  43,  31,  24,  19,  39,\n",
       "        10])"
      ]
     },
     "execution_count": 22,
     "metadata": {},
     "output_type": "execute_result"
    }
   ],
   "source": [
    "z"
   ]
  },
  {
   "cell_type": "code",
   "execution_count": 23,
   "metadata": {},
   "outputs": [
    {
     "data": {
      "image/png": "[encoded data removed]",
      "text/plain": [
       "<Figure size 432x288 with 1 Axes>"
      ]
     },
     "metadata": {
      "needs_background": "light"
     },
     "output_type": "display_data"
    }
   ],
   "source": [
    "plt.boxplot(z);\n",
    "plt.grid(True)"
   ]
  },
  {
   "cell_type": "code",
   "execution_count": 24,
   "metadata": {},
   "outputs": [],
   "source": [
    "z[15]=-100"
   ]
  },
  {
   "cell_type": "code",
   "execution_count": 25,
   "metadata": {},
   "outputs": [
    {
     "data": {
      "text/plain": [
       "array([  23,   42,   12,   38,   30,   24,   44,   11,   38,   44,  150,\n",
       "         17,   14,   38,   27, -100,   31,   25,   23,   15,   23,   45,\n",
       "         44,   46,   37,   31,   19,   22,   23,   44,   46,   22,   25,\n",
       "         24,   43,   31,   24,   19,   39,   10])"
      ]
     },
     "execution_count": 25,
     "metadata": {},
     "output_type": "execute_result"
    }
   ],
   "source": [
    "z"
   ]
  },
  {
   "cell_type": "code",
   "execution_count": 26,
   "metadata": {},
   "outputs": [
    {
     "data": {
      "image/png": "[encoded data removed]",
      "text/plain": [
       "<Figure size 432x288 with 1 Axes>"
      ]
     },
     "metadata": {
      "needs_background": "light"
     },
     "output_type": "display_data"
    }
   ],
   "source": [
    "plt.boxplot(z);\n",
    "plt.grid(True)"
   ]
  },
  {
   "cell_type": "code",
   "execution_count": 27,
   "metadata": {},
   "outputs": [
    {
     "data": {
      "text/plain": [
       "10"
      ]
     },
     "execution_count": 27,
     "metadata": {},
     "output_type": "execute_result"
    }
   ],
   "source": [
    "z.argmax()"
   ]
  },
  {
   "cell_type": "code",
   "execution_count": 28,
   "metadata": {},
   "outputs": [
    {
     "data": {
      "text/plain": [
       "150"
      ]
     },
     "execution_count": 28,
     "metadata": {},
     "output_type": "execute_result"
    }
   ],
   "source": [
    "z[10]"
   ]
  },
  {
   "cell_type": "code",
   "execution_count": 29,
   "metadata": {},
   "outputs": [
    {
     "data": {
      "text/plain": [
       "15"
      ]
     },
     "execution_count": 29,
     "metadata": {},
     "output_type": "execute_result"
    }
   ],
   "source": [
    "z.argmin()"
   ]
  },
  {
   "cell_type": "code",
   "execution_count": 30,
   "metadata": {},
   "outputs": [
    {
     "data": {
      "text/plain": [
       "-100"
      ]
     },
     "execution_count": 30,
     "metadata": {},
     "output_type": "execute_result"
    }
   ],
   "source": [
    "z[15] "
   ]
  },
  {
   "cell_type": "code",
   "execution_count": 31,
   "metadata": {},
   "outputs": [
    {
     "data": {
      "text/plain": [
       "array([False, False, False, False, False, False, False, False, False,\n",
       "       False,  True, False, False, False, False, False, False, False,\n",
       "       False, False, False, False, False, False, False, False, False,\n",
       "       False, False, False, False, False, False, False, False, False,\n",
       "       False, False, False, False])"
      ]
     },
     "execution_count": 31,
     "metadata": {},
     "output_type": "execute_result"
    }
   ],
   "source": [
    "z==z.max()"
   ]
  },
  {
   "cell_type": "code",
   "execution_count": 32,
   "metadata": {},
   "outputs": [
    {
     "data": {
      "text/plain": [
       "array([False, False, False, False, False, False, False, False, False,\n",
       "       False, False, False, False, False, False,  True, False, False,\n",
       "       False, False, False, False, False, False, False, False, False,\n",
       "       False, False, False, False, False, False, False, False, False,\n",
       "       False, False, False, False])"
      ]
     },
     "execution_count": 32,
     "metadata": {},
     "output_type": "execute_result"
    }
   ],
   "source": [
    "z==z.min()"
   ]
  },
  {
   "cell_type": "code",
   "execution_count": 33,
   "metadata": {},
   "outputs": [
    {
     "ename": "ValueError",
     "evalue": "The truth value of an array with more than one element is ambiguous. Use a.any() or a.all()",
     "output_type": "error",
     "traceback": [
      "\u001b[1;31m---------------------------------------------------------------------------\u001b[0m",
      "\u001b[1;31mValueError\u001b[0m                                Traceback (most recent call last)",
      "\u001b[1;32m<ipython-input-33-0feb5efb167a>\u001b[0m in \u001b[0;36m<module>\u001b[1;34m\u001b[0m\n\u001b[1;32m----> 1\u001b[1;33m \u001b[1;33m(\u001b[0m\u001b[0mz\u001b[0m\u001b[1;33m==\u001b[0m\u001b[0mz\u001b[0m\u001b[1;33m.\u001b[0m\u001b[0mmin\u001b[0m\u001b[1;33m(\u001b[0m\u001b[1;33m)\u001b[0m \u001b[1;33m|\u001b[0m \u001b[0mz\u001b[0m\u001b[1;33m==\u001b[0m\u001b[0mz\u001b[0m\u001b[1;33m.\u001b[0m\u001b[0mmax\u001b[0m\u001b[1;33m(\u001b[0m\u001b[1;33m)\u001b[0m\u001b[1;33m)\u001b[0m\u001b[1;33m\u001b[0m\u001b[1;33m\u001b[0m\u001b[0m\n\u001b[0m",
      "\u001b[1;31mValueError\u001b[0m: The truth value of an array with more than one element is ambiguous. Use a.any() or a.all()"
     ]
    }
   ],
   "source": [
    "(z==z.min() | z==z.max())"
   ]
  },
  {
   "cell_type": "code",
   "execution_count": 34,
   "metadata": {},
   "outputs": [
    {
     "data": {
      "text/plain": [
       "(40,)"
      ]
     },
     "execution_count": 34,
     "metadata": {},
     "output_type": "execute_result"
    }
   ],
   "source": [
    "z.shape"
   ]
  },
  {
   "cell_type": "code",
   "execution_count": 37,
   "metadata": {},
   "outputs": [
    {
     "data": {
      "text/plain": [
       "True"
      ]
     },
     "execution_count": 37,
     "metadata": {},
     "output_type": "execute_result"
    }
   ],
   "source": [
    "z==z.max()"
   ]
  },
  {
   "cell_type": "code",
   "execution_count": 38,
   "metadata": {},
   "outputs": [
    {
     "data": {
      "text/plain": [
       "150"
      ]
     },
     "execution_count": 38,
     "metadata": {},
     "output_type": "execute_result"
    }
   ],
   "source": [
    "z"
   ]
  },
  {
   "cell_type": "raw",
   "metadata": {},
   "source": []
  }
 ],
 "metadata": {
  "kernelspec": {
   "display_name": "Python 3",
   "language": "python",
   "name": "python3"
  },
  "language_info": {
   "codemirror_mode": {
    "name": "ipython",
    "version": 3
   },
   "file_extension": ".py",
   "mimetype": "text/x-python",
   "name": "python",
   "nbconvert_exporter": "python",
   "pygments_lexer": "ipython3",
   "version": "3.7.6"
  }
 },
 "nbformat": 4,
 "nbformat_minor": 4
}
