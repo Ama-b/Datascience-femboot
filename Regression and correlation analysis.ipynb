{
 "cells": [
  {
   "cell_type": "markdown",
   "metadata": {},
   "source": [
    "## Regression and Correlation analysis"
   ]
  },
  {
   "cell_type": "code",
   "execution_count": 1,
   "metadata": {},
   "outputs": [],
   "source": [
    "def corr(x_data, y_data):\n",
    "    sum_x= sum(x_data)\n",
    "    sum_y= sum(y_data)\n",
    "    sum_xy= 0\n",
    "    n=len(x_data)\n",
    "    for i in range(n):\n",
    "        print(x_data[i]*y_data[i])"
   ]
  },
  {
   "cell_type": "code",
   "execution_count": 2,
   "metadata": {},
   "outputs": [
    {
     "name": "stdout",
     "output_type": "stream",
     "text": [
      "8\n",
      "15\n",
      "2\n"
     ]
    }
   ],
   "source": [
    "corr([4,3,1], [2,5,2])"
   ]
  },
  {
   "cell_type": "code",
   "execution_count": 7,
   "metadata": {},
   "outputs": [],
   "source": [
    "def corr(x_data, y_data):\n",
    "    sum_x= sum(x_data)\n",
    "    sum_y= sum(y_data)\n",
    "    sum_xy= 0\n",
    "    n=len(x_data)\n",
    "    for i in range(n):\n",
    "        sum_xy += (x_data[i]*y_data[i])\n",
    "    print(sum_xy)"
   ]
  },
  {
   "cell_type": "code",
   "execution_count": 8,
   "metadata": {},
   "outputs": [
    {
     "name": "stdout",
     "output_type": "stream",
     "text": [
      "25\n"
     ]
    }
   ],
   "source": [
    "corr([4,3,1], [2,5,2])"
   ]
  },
  {
   "cell_type": "code",
   "execution_count": 38,
   "metadata": {},
   "outputs": [],
   "source": [
    "def corr_num(x_data, y_data):\n",
    "    sum_x= sum(x_data)\n",
    "    sum_y= sum(y_data)\n",
    "    sum_xy= 0\n",
    "    n=len(x_data)\n",
    "    for i in range(n):\n",
    "        sum_xy += (x_data[i]*y_data[i])\n",
    "    return (n*sum_xy-sum_x*sum_y)"
   ]
  },
  {
   "cell_type": "code",
   "execution_count": 39,
   "metadata": {},
   "outputs": [
    {
     "data": {
      "text/plain": [
       "3"
      ]
     },
     "execution_count": 39,
     "metadata": {},
     "output_type": "execute_result"
    }
   ],
   "source": [
    "corr_num([4,3,1], [2,5,2])"
   ]
  },
  {
   "cell_type": "code",
   "execution_count": 33,
   "metadata": {},
   "outputs": [],
   "source": [
    "def corr(x_data, y_data):\n",
    "    sum_x= sum(x_data)\n",
    "    sum_y= sum(y_data)\n",
    "    n=len(x_data)\n",
    "    x_sp_sum=0\n",
    "    y_sp_sum=0\n",
    "    for i in range(n):\n",
    "        x_sp_sum =x_sp_sum+x_data[i]**2\n",
    "        y_sp_sum =y_sp_sum+y_data[i]**2\n",
    "    print(x_sp_sum)\n",
    "    print(y_sp_sum)"
   ]
  },
  {
   "cell_type": "code",
   "execution_count": 34,
   "metadata": {},
   "outputs": [
    {
     "name": "stdout",
     "output_type": "stream",
     "text": [
      "26\n",
      "33\n"
     ]
    }
   ],
   "source": [
    "corr([4,3,1], [2,5,2])"
   ]
  },
  {
   "cell_type": "code",
   "execution_count": 35,
   "metadata": {},
   "outputs": [],
   "source": [
    "def corr_den(x_data, y_data):\n",
    "    sum_x= sum(x_data)\n",
    "    sum_y= sum(y_data)\n",
    "    n=len(x_data)\n",
    "    x_sp_sum=0\n",
    "    y_sp_sum=0\n",
    "    for i in range(n):\n",
    "        x_sp_sum += x_data[i]**2\n",
    "        y_sp_sum += y_data[i]**2\n",
    "    return((n*x_sp_sum-sum_x**2)*(n*y_sp_sum-sum_y**2))**0.5"
   ]
  },
  {
   "cell_type": "code",
   "execution_count": 36,
   "metadata": {},
   "outputs": [
    {
     "data": {
      "text/plain": [
       "15.874507866387544"
      ]
     },
     "execution_count": 36,
     "metadata": {},
     "output_type": "execute_result"
    }
   ],
   "source": [
    "corr_den([4,3,1], [2,5,2])"
   ]
  },
  {
   "cell_type": "code",
   "execution_count": 40,
   "metadata": {},
   "outputs": [
    {
     "data": {
      "text/plain": [
       "0.1889822365046136"
      ]
     },
     "execution_count": 40,
     "metadata": {},
     "output_type": "execute_result"
    }
   ],
   "source": [
    "corr_num([4,3,1], [2,5,2])/corr_den([4,3,1], [2,5,2])"
   ]
  },
  {
   "cell_type": "code",
   "execution_count": 41,
   "metadata": {},
   "outputs": [],
   "source": [
    "def corr(x_data,y_data):\n",
    "    return(corr_num(x_data, y_data)/corr_den(x_data, y_data))"
   ]
  },
  {
   "cell_type": "code",
   "execution_count": 42,
   "metadata": {},
   "outputs": [
    {
     "data": {
      "text/plain": [
       "0.1889822365046136"
      ]
     },
     "execution_count": 42,
     "metadata": {},
     "output_type": "execute_result"
    }
   ],
   "source": [
    "corr([4,3,1], [2,5,2])"
   ]
  },
  {
   "cell_type": "code",
   "execution_count": null,
   "metadata": {},
   "outputs": [],
   "source": []
  }
 ],
 "metadata": {
  "kernelspec": {
   "display_name": "Python 3",
   "language": "python",
   "name": "python3"
  },
  "language_info": {
   "codemirror_mode": {
    "name": "ipython",
    "version": 3
   },
   "file_extension": ".py",
   "mimetype": "text/x-python",
   "name": "python",
   "nbconvert_exporter": "python",
   "pygments_lexer": "ipython3",
   "version": "3.7.6"
  }
 },
 "nbformat": 4,
 "nbformat_minor": 4
}
