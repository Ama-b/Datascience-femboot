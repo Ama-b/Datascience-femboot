{
 "cells": [
  {
   "cell_type": "markdown",
   "metadata": {},
   "source": [
    "## Reshaping metrix"
   ]
  },
  {
   "cell_type": "code",
   "execution_count": 1,
   "metadata": {},
   "outputs": [],
   "source": [
    "import numpy as np"
   ]
  },
  {
   "cell_type": "code",
   "execution_count": 2,
   "metadata": {},
   "outputs": [],
   "source": [
    "x=np.random.randint(20,100,(3,4))"
   ]
  },
  {
   "cell_type": "code",
   "execution_count": 3,
   "metadata": {},
   "outputs": [
    {
     "data": {
      "text/plain": [
       "array([[39, 95, 21, 62],\n",
       "       [20, 58, 79, 94],\n",
       "       [82, 52, 95, 97]])"
      ]
     },
     "execution_count": 3,
     "metadata": {},
     "output_type": "execute_result"
    }
   ],
   "source": [
    "x"
   ]
  },
  {
   "cell_type": "code",
   "execution_count": 4,
   "metadata": {},
   "outputs": [],
   "source": [
    "y=np.random.randint(20,100,16)"
   ]
  },
  {
   "cell_type": "code",
   "execution_count": 5,
   "metadata": {},
   "outputs": [
    {
     "data": {
      "text/plain": [
       "array([80, 98, 34, 71, 24, 20, 37, 44, 52, 54, 25, 38, 84, 95, 89, 76])"
      ]
     },
     "execution_count": 5,
     "metadata": {},
     "output_type": "execute_result"
    }
   ],
   "source": [
    "y"
   ]
  },
  {
   "cell_type": "code",
   "execution_count": 6,
   "metadata": {},
   "outputs": [],
   "source": [
    "x.shape=(4,3)"
   ]
  },
  {
   "cell_type": "code",
   "execution_count": 7,
   "metadata": {},
   "outputs": [
    {
     "data": {
      "text/plain": [
       "array([[39, 95, 21],\n",
       "       [62, 20, 58],\n",
       "       [79, 94, 82],\n",
       "       [52, 95, 97]])"
      ]
     },
     "execution_count": 7,
     "metadata": {},
     "output_type": "execute_result"
    }
   ],
   "source": [
    "x"
   ]
  },
  {
   "cell_type": "code",
   "execution_count": 8,
   "metadata": {},
   "outputs": [],
   "source": [
    "x=x.reshape(2,6)"
   ]
  },
  {
   "cell_type": "code",
   "execution_count": 9,
   "metadata": {},
   "outputs": [
    {
     "data": {
      "text/plain": [
       "array([[39, 95, 21, 62, 20, 58],\n",
       "       [79, 94, 82, 52, 95, 97]])"
      ]
     },
     "execution_count": 9,
     "metadata": {},
     "output_type": "execute_result"
    }
   ],
   "source": [
    "x"
   ]
  },
  {
   "cell_type": "code",
   "execution_count": 10,
   "metadata": {},
   "outputs": [
    {
     "ename": "ValueError",
     "evalue": "cannot reshape array of size 12 into shape (4,2)",
     "output_type": "error",
     "traceback": [
      "\u001b[1;31m---------------------------------------------------------------------------\u001b[0m",
      "\u001b[1;31mValueError\u001b[0m                                Traceback (most recent call last)",
      "\u001b[1;32m<ipython-input-10-80da17663a26>\u001b[0m in \u001b[0;36m<module>\u001b[1;34m\u001b[0m\n\u001b[1;32m----> 1\u001b[1;33m \u001b[0mx\u001b[0m\u001b[1;33m=\u001b[0m\u001b[0mx\u001b[0m\u001b[1;33m.\u001b[0m\u001b[0mreshape\u001b[0m\u001b[1;33m(\u001b[0m\u001b[1;36m4\u001b[0m\u001b[1;33m,\u001b[0m\u001b[1;36m2\u001b[0m\u001b[1;33m)\u001b[0m\u001b[1;33m\u001b[0m\u001b[1;33m\u001b[0m\u001b[0m\n\u001b[0m",
      "\u001b[1;31mValueError\u001b[0m: cannot reshape array of size 12 into shape (4,2)"
     ]
    }
   ],
   "source": [
    "x=x.reshape(4,2)"
   ]
  },
  {
   "cell_type": "code",
   "execution_count": 11,
   "metadata": {},
   "outputs": [],
   "source": [
    "y=y.reshape(2,-1)"
   ]
  },
  {
   "cell_type": "code",
   "execution_count": 12,
   "metadata": {},
   "outputs": [
    {
     "data": {
      "text/plain": [
       "array([[80, 98, 34, 71, 24, 20, 37, 44],\n",
       "       [52, 54, 25, 38, 84, 95, 89, 76]])"
      ]
     },
     "execution_count": 12,
     "metadata": {},
     "output_type": "execute_result"
    }
   ],
   "source": [
    "y"
   ]
  },
  {
   "cell_type": "code",
   "execution_count": 13,
   "metadata": {},
   "outputs": [
    {
     "data": {
      "text/plain": [
       "(2, 8)"
      ]
     },
     "execution_count": 13,
     "metadata": {},
     "output_type": "execute_result"
    }
   ],
   "source": [
    "y.shape"
   ]
  },
  {
   "cell_type": "code",
   "execution_count": 14,
   "metadata": {},
   "outputs": [],
   "source": [
    "y=y.reshape(-1,4)"
   ]
  },
  {
   "cell_type": "code",
   "execution_count": 15,
   "metadata": {},
   "outputs": [
    {
     "ename": "ValueError",
     "evalue": "cannot reshape array of size 16 into shape (6,newaxis)",
     "output_type": "error",
     "traceback": [
      "\u001b[1;31m---------------------------------------------------------------------------\u001b[0m",
      "\u001b[1;31mValueError\u001b[0m                                Traceback (most recent call last)",
      "\u001b[1;32m<ipython-input-15-c0302a017f17>\u001b[0m in \u001b[0;36m<module>\u001b[1;34m\u001b[0m\n\u001b[1;32m----> 1\u001b[1;33m \u001b[0my\u001b[0m\u001b[1;33m.\u001b[0m\u001b[0mreshape\u001b[0m\u001b[1;33m(\u001b[0m\u001b[1;36m6\u001b[0m\u001b[1;33m,\u001b[0m\u001b[1;33m-\u001b[0m\u001b[1;36m1\u001b[0m\u001b[1;33m)\u001b[0m\u001b[1;33m\u001b[0m\u001b[1;33m\u001b[0m\u001b[0m\n\u001b[0m",
      "\u001b[1;31mValueError\u001b[0m: cannot reshape array of size 16 into shape (6,newaxis)"
     ]
    }
   ],
   "source": [
    "y.reshape(6,-1)"
   ]
  },
  {
   "cell_type": "code",
   "execution_count": 16,
   "metadata": {},
   "outputs": [
    {
     "data": {
      "text/plain": [
       "array([[80, 98, 34, 71],\n",
       "       [24, 20, 37, 44],\n",
       "       [52, 54, 25, 38],\n",
       "       [84, 95, 89, 76]])"
      ]
     },
     "execution_count": 16,
     "metadata": {},
     "output_type": "execute_result"
    }
   ],
   "source": [
    "y"
   ]
  },
  {
   "cell_type": "code",
   "execution_count": 17,
   "metadata": {},
   "outputs": [],
   "source": [
    "y=y.reshape(-1,16)"
   ]
  },
  {
   "cell_type": "code",
   "execution_count": 18,
   "metadata": {},
   "outputs": [
    {
     "data": {
      "text/plain": [
       "array([[80, 98, 34, 71, 24, 20, 37, 44, 52, 54, 25, 38, 84, 95, 89, 76]])"
      ]
     },
     "execution_count": 18,
     "metadata": {},
     "output_type": "execute_result"
    }
   ],
   "source": [
    "y"
   ]
  },
  {
   "cell_type": "code",
   "execution_count": 19,
   "metadata": {},
   "outputs": [
    {
     "data": {
      "text/plain": [
       "(1, 16)"
      ]
     },
     "execution_count": 19,
     "metadata": {},
     "output_type": "execute_result"
    }
   ],
   "source": [
    "y.shape"
   ]
  },
  {
   "cell_type": "code",
   "execution_count": 20,
   "metadata": {},
   "outputs": [],
   "source": [
    "y=y.reshape(1,-1)"
   ]
  },
  {
   "cell_type": "code",
   "execution_count": 21,
   "metadata": {},
   "outputs": [
    {
     "data": {
      "text/plain": [
       "array([[80, 98, 34, 71, 24, 20, 37, 44, 52, 54, 25, 38, 84, 95, 89, 76]])"
      ]
     },
     "execution_count": 21,
     "metadata": {},
     "output_type": "execute_result"
    }
   ],
   "source": [
    "y"
   ]
  },
  {
   "cell_type": "code",
   "execution_count": 22,
   "metadata": {},
   "outputs": [
    {
     "data": {
      "text/plain": [
       "(1, 16)"
      ]
     },
     "execution_count": 22,
     "metadata": {},
     "output_type": "execute_result"
    }
   ],
   "source": [
    "y.shape"
   ]
  },
  {
   "cell_type": "code",
   "execution_count": 23,
   "metadata": {},
   "outputs": [
    {
     "data": {
      "text/plain": [
       "2"
      ]
     },
     "execution_count": 23,
     "metadata": {},
     "output_type": "execute_result"
    }
   ],
   "source": [
    "y.ndim"
   ]
  },
  {
   "cell_type": "code",
   "execution_count": 24,
   "metadata": {},
   "outputs": [],
   "source": [
    "y=y.ravel()"
   ]
  },
  {
   "cell_type": "code",
   "execution_count": 25,
   "metadata": {},
   "outputs": [
    {
     "data": {
      "text/plain": [
       "array([80, 98, 34, 71, 24, 20, 37, 44, 52, 54, 25, 38, 84, 95, 89, 76])"
      ]
     },
     "execution_count": 25,
     "metadata": {},
     "output_type": "execute_result"
    }
   ],
   "source": [
    "y"
   ]
  },
  {
   "cell_type": "code",
   "execution_count": 26,
   "metadata": {},
   "outputs": [
    {
     "data": {
      "text/plain": [
       "(16,)"
      ]
     },
     "execution_count": 26,
     "metadata": {},
     "output_type": "execute_result"
    }
   ],
   "source": [
    "y.shape"
   ]
  },
  {
   "cell_type": "code",
   "execution_count": 27,
   "metadata": {},
   "outputs": [
    {
     "data": {
      "text/plain": [
       "1"
      ]
     },
     "execution_count": 27,
     "metadata": {},
     "output_type": "execute_result"
    }
   ],
   "source": [
    "y.ndim"
   ]
  },
  {
   "cell_type": "markdown",
   "metadata": {},
   "source": [
    "## Boolean array and masking"
   ]
  },
  {
   "cell_type": "code",
   "execution_count": 28,
   "metadata": {},
   "outputs": [],
   "source": [
    "z=np.array([True,False,True]*2)"
   ]
  },
  {
   "cell_type": "code",
   "execution_count": 29,
   "metadata": {},
   "outputs": [
    {
     "data": {
      "text/plain": [
       "array([ True, False,  True,  True, False,  True])"
      ]
     },
     "execution_count": 29,
     "metadata": {},
     "output_type": "execute_result"
    }
   ],
   "source": [
    "z"
   ]
  },
  {
   "cell_type": "code",
   "execution_count": 30,
   "metadata": {},
   "outputs": [],
   "source": [
    "r=np.array([4,5,2,3,5,4])"
   ]
  },
  {
   "cell_type": "code",
   "execution_count": 31,
   "metadata": {},
   "outputs": [
    {
     "data": {
      "text/plain": [
       "array([4, 5, 2, 3, 5, 4])"
      ]
     },
     "execution_count": 31,
     "metadata": {},
     "output_type": "execute_result"
    }
   ],
   "source": [
    "r"
   ]
  },
  {
   "cell_type": "code",
   "execution_count": 32,
   "metadata": {},
   "outputs": [
    {
     "data": {
      "text/plain": [
       "array([4, 2, 3, 4])"
      ]
     },
     "execution_count": 32,
     "metadata": {},
     "output_type": "execute_result"
    }
   ],
   "source": [
    "r[z] #masking"
   ]
  },
  {
   "cell_type": "code",
   "execution_count": 33,
   "metadata": {},
   "outputs": [
    {
     "data": {
      "text/plain": [
       "4"
      ]
     },
     "execution_count": 33,
     "metadata": {},
     "output_type": "execute_result"
    }
   ],
   "source": [
    "r[0]"
   ]
  },
  {
   "cell_type": "code",
   "execution_count": 34,
   "metadata": {},
   "outputs": [
    {
     "data": {
      "text/plain": [
       "array([4, 5])"
      ]
     },
     "execution_count": 34,
     "metadata": {},
     "output_type": "execute_result"
    }
   ],
   "source": [
    "r[0:2]"
   ]
  },
  {
   "cell_type": "code",
   "execution_count": 35,
   "metadata": {},
   "outputs": [
    {
     "data": {
      "text/plain": [
       "array([5, 5])"
      ]
     },
     "execution_count": 35,
     "metadata": {},
     "output_type": "execute_result"
    }
   ],
   "source": [
    "r[~z]"
   ]
  },
  {
   "cell_type": "code",
   "execution_count": 36,
   "metadata": {},
   "outputs": [
    {
     "ename": "ValueError",
     "evalue": "The truth value of an array with more than one element is ambiguous. Use a.any() or a.all()",
     "output_type": "error",
     "traceback": [
      "\u001b[1;31m---------------------------------------------------------------------------\u001b[0m",
      "\u001b[1;31mValueError\u001b[0m                                Traceback (most recent call last)",
      "\u001b[1;32m<ipython-input-36-58f50d1b6380>\u001b[0m in \u001b[0;36m<module>\u001b[1;34m\u001b[0m\n\u001b[1;32m----> 1\u001b[1;33m \u001b[1;32mnot\u001b[0m \u001b[0mz\u001b[0m\u001b[1;33m\u001b[0m\u001b[1;33m\u001b[0m\u001b[0m\n\u001b[0m",
      "\u001b[1;31mValueError\u001b[0m: The truth value of an array with more than one element is ambiguous. Use a.any() or a.all()"
     ]
    }
   ],
   "source": [
    "not z"
   ]
  },
  {
   "cell_type": "code",
   "execution_count": 37,
   "metadata": {},
   "outputs": [
    {
     "data": {
      "text/plain": [
       "array([False,  True, False, False,  True, False])"
      ]
     },
     "execution_count": 37,
     "metadata": {},
     "output_type": "execute_result"
    }
   ],
   "source": [
    "~z"
   ]
  },
  {
   "cell_type": "code",
   "execution_count": 38,
   "metadata": {},
   "outputs": [],
   "source": [
    "t=np.random.randint(10,20,15)"
   ]
  },
  {
   "cell_type": "code",
   "execution_count": 39,
   "metadata": {},
   "outputs": [
    {
     "data": {
      "text/plain": [
       "array([16, 18, 19, 10, 12, 10, 10, 15, 15, 12, 18, 19, 13, 10, 12])"
      ]
     },
     "execution_count": 39,
     "metadata": {},
     "output_type": "execute_result"
    }
   ],
   "source": [
    "t"
   ]
  },
  {
   "cell_type": "code",
   "execution_count": 40,
   "metadata": {},
   "outputs": [],
   "source": [
    "t_bar=t.mean()"
   ]
  },
  {
   "cell_type": "code",
   "execution_count": 41,
   "metadata": {},
   "outputs": [
    {
     "data": {
      "text/plain": [
       "13.933333333333334"
      ]
     },
     "execution_count": 41,
     "metadata": {},
     "output_type": "execute_result"
    }
   ],
   "source": [
    "t_bar"
   ]
  },
  {
   "cell_type": "code",
   "execution_count": 42,
   "metadata": {},
   "outputs": [
    {
     "data": {
      "text/plain": [
       "array([ True,  True,  True, False, False, False, False,  True,  True,\n",
       "       False,  True,  True, False, False, False])"
      ]
     },
     "execution_count": 42,
     "metadata": {},
     "output_type": "execute_result"
    }
   ],
   "source": [
    "t>t_bar"
   ]
  },
  {
   "cell_type": "code",
   "execution_count": 43,
   "metadata": {},
   "outputs": [],
   "source": [
    "result=t>t_bar"
   ]
  },
  {
   "cell_type": "code",
   "execution_count": 44,
   "metadata": {},
   "outputs": [
    {
     "data": {
      "text/plain": [
       "array([ True,  True,  True, False, False, False, False,  True,  True,\n",
       "       False,  True,  True, False, False, False])"
      ]
     },
     "execution_count": 44,
     "metadata": {},
     "output_type": "execute_result"
    }
   ],
   "source": [
    "result"
   ]
  },
  {
   "cell_type": "code",
   "execution_count": 45,
   "metadata": {},
   "outputs": [
    {
     "data": {
      "text/plain": [
       "array([16, 18, 19, 15, 15, 18, 19])"
      ]
     },
     "execution_count": 45,
     "metadata": {},
     "output_type": "execute_result"
    }
   ],
   "source": [
    "t[result]"
   ]
  },
  {
   "cell_type": "code",
   "execution_count": 46,
   "metadata": {},
   "outputs": [],
   "source": [
    "age=np.random.randint(14,100,20)"
   ]
  },
  {
   "cell_type": "code",
   "execution_count": 47,
   "metadata": {},
   "outputs": [
    {
     "data": {
      "text/plain": [
       "array([40, 62, 63, 25, 20, 35, 46, 45, 26, 46, 37, 95, 57, 18, 14, 47, 22,\n",
       "       95, 77, 55])"
      ]
     },
     "execution_count": 47,
     "metadata": {},
     "output_type": "execute_result"
    }
   ],
   "source": [
    "age"
   ]
  },
  {
   "cell_type": "code",
   "execution_count": 48,
   "metadata": {},
   "outputs": [
    {
     "data": {
      "text/plain": [
       "array([95, 95, 77])"
      ]
     },
     "execution_count": 48,
     "metadata": {},
     "output_type": "execute_result"
    }
   ],
   "source": [
    "age[age>66]"
   ]
  },
  {
   "cell_type": "code",
   "execution_count": 49,
   "metadata": {},
   "outputs": [
    {
     "data": {
      "text/plain": [
       "array([10, 12, 10, 10, 12, 13, 10, 12])"
      ]
     },
     "execution_count": 49,
     "metadata": {},
     "output_type": "execute_result"
    }
   ],
   "source": [
    "t[~result]"
   ]
  },
  {
   "cell_type": "markdown",
   "metadata": {},
   "source": [
    "## Assignment: Study numpy indexing, slicing and fancy indexing"
   ]
  },
  {
   "cell_type": "markdown",
   "metadata": {},
   "source": [
    "## Plot"
   ]
  },
  {
   "cell_type": "code",
   "execution_count": 50,
   "metadata": {},
   "outputs": [],
   "source": [
    "import matplotlib.pyplot as plt"
   ]
  },
  {
   "cell_type": "markdown",
   "metadata": {},
   "source": [
    "### Scatter diagram"
   ]
  },
  {
   "cell_type": "code",
   "execution_count": 51,
   "metadata": {},
   "outputs": [],
   "source": [
    "ages=np.random.randint(20,100,50)\n",
    "weight=np.random.randint(45,120,50)"
   ]
  },
  {
   "cell_type": "code",
   "execution_count": 52,
   "metadata": {},
   "outputs": [
    {
     "data": {
      "text/plain": [
       "array([32, 23, 64, 23, 74, 45, 79, 33, 95, 66, 88, 98, 75, 30, 82, 62, 41,\n",
       "       47, 60, 53, 64, 44, 29, 57, 61, 31, 86, 91, 64, 36, 22, 93, 99, 38,\n",
       "       76, 79, 98, 26, 48, 75, 20, 84, 75, 81, 53, 77, 42, 92, 23, 83])"
      ]
     },
     "execution_count": 52,
     "metadata": {},
     "output_type": "execute_result"
    }
   ],
   "source": [
    "ages"
   ]
  },
  {
   "cell_type": "code",
   "execution_count": 53,
   "metadata": {},
   "outputs": [
    {
     "data": {
      "text/plain": [
       "array([ 72,  84, 103,  90,  64, 116,  88, 116,  71, 108,  74, 118,  63,\n",
       "        66,  92,  51,  65,  78, 115,  57,  79,  78, 114, 119, 112,  99,\n",
       "        90,  47, 101,  65, 113,  64,  61,  57,  89,  78,  52,  81, 104,\n",
       "        95,  91,  91,  56,  72, 109,  81,  99,  65, 115,  52])"
      ]
     },
     "execution_count": 53,
     "metadata": {},
     "output_type": "execute_result"
    }
   ],
   "source": [
    "weight"
   ]
  },
  {
   "cell_type": "code",
   "execution_count": 54,
   "metadata": {},
   "outputs": [],
   "source": [
    "# pseudo random numbers"
   ]
  },
  {
   "cell_type": "code",
   "execution_count": 55,
   "metadata": {},
   "outputs": [
    {
     "data": {
      "text/plain": [
       "<matplotlib.collections.PathCollection at 0x259917834c8>"
      ]
     },
     "execution_count": 55,
     "metadata": {},
     "output_type": "execute_result"
    },
    {
     "data": {
      "image/png": "[encoded data removed]",
      "text/plain": [
       "<Figure size 432x288 with 1 Axes>"
      ]
     },
     "metadata": {
      "needs_background": "light"
     },
     "output_type": "display_data"
    }
   ],
   "source": [
    "plt.scatter(ages,weight,s=100)"
   ]
  },
  {
   "cell_type": "code",
   "execution_count": 56,
   "metadata": {},
   "outputs": [
    {
     "data": {
      "text/plain": [
       "array([[ 1.        , -0.33231322],\n",
       "       [-0.33231322,  1.        ]])"
      ]
     },
     "execution_count": 56,
     "metadata": {},
     "output_type": "execute_result"
    }
   ],
   "source": [
    "np.corrcoef(ages,weight) # weak positive correlation"
   ]
  },
  {
   "cell_type": "code",
   "execution_count": 57,
   "metadata": {},
   "outputs": [
    {
     "data": {
      "text/plain": [
       "<matplotlib.collections.PathCollection at 0x259938e5988>"
      ]
     },
     "execution_count": 57,
     "metadata": {},
     "output_type": "execute_result"
    },
    {
     "data": {
      "image/png": "[encoded data removed]",
      "text/plain": [
       "<Figure size 432x288 with 1 Axes>"
      ]
     },
     "metadata": {
      "needs_background": "light"
     },
     "output_type": "display_data"
    }
   ],
   "source": [
    "plt.scatter(ages,weight,s=100, c=\"red\", marker=\"x\")"
   ]
  },
  {
   "cell_type": "code",
   "execution_count": 58,
   "metadata": {},
   "outputs": [],
   "source": [
    "x=np.linspace(-20,20,100)"
   ]
  },
  {
   "cell_type": "code",
   "execution_count": 59,
   "metadata": {},
   "outputs": [
    {
     "data": {
      "text/plain": [
       "array([-20.        , -19.5959596 , -19.19191919, -18.78787879,\n",
       "       -18.38383838, -17.97979798, -17.57575758, -17.17171717,\n",
       "       -16.76767677, -16.36363636, -15.95959596, -15.55555556,\n",
       "       -15.15151515, -14.74747475, -14.34343434, -13.93939394,\n",
       "       -13.53535354, -13.13131313, -12.72727273, -12.32323232,\n",
       "       -11.91919192, -11.51515152, -11.11111111, -10.70707071,\n",
       "       -10.3030303 ,  -9.8989899 ,  -9.49494949,  -9.09090909,\n",
       "        -8.68686869,  -8.28282828,  -7.87878788,  -7.47474747,\n",
       "        -7.07070707,  -6.66666667,  -6.26262626,  -5.85858586,\n",
       "        -5.45454545,  -5.05050505,  -4.64646465,  -4.24242424,\n",
       "        -3.83838384,  -3.43434343,  -3.03030303,  -2.62626263,\n",
       "        -2.22222222,  -1.81818182,  -1.41414141,  -1.01010101,\n",
       "        -0.60606061,  -0.2020202 ,   0.2020202 ,   0.60606061,\n",
       "         1.01010101,   1.41414141,   1.81818182,   2.22222222,\n",
       "         2.62626263,   3.03030303,   3.43434343,   3.83838384,\n",
       "         4.24242424,   4.64646465,   5.05050505,   5.45454545,\n",
       "         5.85858586,   6.26262626,   6.66666667,   7.07070707,\n",
       "         7.47474747,   7.87878788,   8.28282828,   8.68686869,\n",
       "         9.09090909,   9.49494949,   9.8989899 ,  10.3030303 ,\n",
       "        10.70707071,  11.11111111,  11.51515152,  11.91919192,\n",
       "        12.32323232,  12.72727273,  13.13131313,  13.53535354,\n",
       "        13.93939394,  14.34343434,  14.74747475,  15.15151515,\n",
       "        15.55555556,  15.95959596,  16.36363636,  16.76767677,\n",
       "        17.17171717,  17.57575758,  17.97979798,  18.38383838,\n",
       "        18.78787879,  19.19191919,  19.5959596 ,  20.        ])"
      ]
     },
     "execution_count": 59,
     "metadata": {},
     "output_type": "execute_result"
    }
   ],
   "source": [
    "x"
   ]
  },
  {
   "cell_type": "markdown",
   "metadata": {},
   "source": [
    "## $$ y=2x^2-5x+1 $$"
   ]
  },
  {
   "cell_type": "code",
   "execution_count": 60,
   "metadata": {},
   "outputs": [],
   "source": [
    "y=2*x**2-5*x+1"
   ]
  },
  {
   "cell_type": "code",
   "execution_count": 61,
   "metadata": {},
   "outputs": [
    {
     "data": {
      "text/plain": [
       "array([ 9.01000000e+02,  8.66983063e+02,  8.33619120e+02,  8.00908173e+02,\n",
       "        7.68850219e+02,  7.37445261e+02,  7.06693297e+02,  6.76594327e+02,\n",
       "        6.47148352e+02,  6.18355372e+02,  5.90215386e+02,  5.62728395e+02,\n",
       "        5.35894399e+02,  5.09713397e+02,  4.84185389e+02,  4.59310376e+02,\n",
       "        4.35088358e+02,  4.11519335e+02,  3.88603306e+02,  3.66340271e+02,\n",
       "        3.44730232e+02,  3.23773186e+02,  3.03469136e+02,  2.83818080e+02,\n",
       "        2.64820018e+02,  2.46474952e+02,  2.28782879e+02,  2.11743802e+02,\n",
       "        1.95357719e+02,  1.79624630e+02,  1.64544536e+02,  1.50117437e+02,\n",
       "        1.36343332e+02,  1.23222222e+02,  1.10754107e+02,  9.89389858e+01,\n",
       "        8.77768595e+01,  7.72677278e+01,  6.74115907e+01,  5.82084481e+01,\n",
       "        4.96583002e+01,  4.17611468e+01,  3.45169881e+01,  2.79258239e+01,\n",
       "        2.19876543e+01,  1.67024793e+01,  1.20702989e+01,  8.09111315e+00,\n",
       "        4.76492195e+00,  2.09172533e+00,  7.15233139e-02, -1.29568411e+00,\n",
       "       -2.00989695e+00, -2.07111519e+00, -1.47933884e+00, -2.34567901e-01,\n",
       "        1.66319763e+00,  4.21395776e+00,  7.41771248e+00,  1.12744618e+01,\n",
       "        1.57842057e+01,  2.09469442e+01,  2.67626773e+01,  3.32314050e+01,\n",
       "        4.03531272e+01,  4.81278441e+01,  5.65555556e+01,  6.56362616e+01,\n",
       "        7.53699622e+01,  8.57566575e+01,  9.67963473e+01,  1.08489032e+02,\n",
       "        1.20834711e+02,  1.33833384e+02,  1.47485053e+02,  1.61789715e+02,\n",
       "        1.76747373e+02,  1.92358025e+02,  2.08621671e+02,  2.25538312e+02,\n",
       "        2.43107948e+02,  2.61330579e+02,  2.80206203e+02,  2.99734823e+02,\n",
       "        3.19916437e+02,  3.40751046e+02,  3.62238649e+02,  3.84379247e+02,\n",
       "        4.07172840e+02,  4.30619427e+02,  4.54719008e+02,  4.79471585e+02,\n",
       "        5.04877155e+02,  5.30935721e+02,  5.57647281e+02,  5.85011836e+02,\n",
       "        6.13029385e+02,  6.41699929e+02,  6.71023467e+02,  7.01000000e+02])"
      ]
     },
     "execution_count": 61,
     "metadata": {},
     "output_type": "execute_result"
    }
   ],
   "source": [
    "y"
   ]
  },
  {
   "cell_type": "code",
   "execution_count": 62,
   "metadata": {},
   "outputs": [
    {
     "data": {
      "text/plain": [
       "<matplotlib.collections.PathCollection at 0x25993964808>"
      ]
     },
     "execution_count": 62,
     "metadata": {},
     "output_type": "execute_result"
    },
    {
     "data": {
      "image/png": "[encoded data removed]",
      "text/plain": [
       "<Figure size 432x288 with 1 Axes>"
      ]
     },
     "metadata": {
      "needs_background": "light"
     },
     "output_type": "display_data"
    }
   ],
   "source": [
    "plt.scatter(x,y)"
   ]
  },
  {
   "cell_type": "code",
   "execution_count": 63,
   "metadata": {},
   "outputs": [
    {
     "data": {
      "text/plain": [
       "[<matplotlib.lines.Line2D at 0x259916fc148>]"
      ]
     },
     "execution_count": 63,
     "metadata": {},
     "output_type": "execute_result"
    },
    {
     "data": {
      "image/png": "[encoded data removed]",
      "text/plain": [
       "<Figure size 432x288 with 1 Axes>"
      ]
     },
     "metadata": {
      "needs_background": "light"
     },
     "output_type": "display_data"
    }
   ],
   "source": [
    "plt.plot(x,y)"
   ]
  },
  {
   "cell_type": "code",
   "execution_count": 64,
   "metadata": {},
   "outputs": [
    {
     "data": {
      "text/plain": [
       "[<matplotlib.lines.Line2D at 0x25993a39e08>]"
      ]
     },
     "execution_count": 64,
     "metadata": {},
     "output_type": "execute_result"
    },
    {
     "data": {
      "image/png": "[encoded data removed]",
      "text/plain": [
       "<Figure size 432x288 with 1 Axes>"
      ]
     },
     "metadata": {
      "needs_background": "light"
     },
     "output_type": "display_data"
    }
   ],
   "source": [
    "plt.plot(x,y,linewidth=6)"
   ]
  },
  {
   "cell_type": "code",
   "execution_count": 65,
   "metadata": {},
   "outputs": [],
   "source": [
    "y=2*x**3-5*x+1"
   ]
  },
  {
   "cell_type": "code",
   "execution_count": 66,
   "metadata": {},
   "outputs": [
    {
     "data": {
      "text/plain": [
       "array([-1.58990000e+04, -1.49507812e+04, -1.40409505e+04, -1.31687164e+04,\n",
       "       -1.23332876e+04, -1.15338723e+04, -1.07696792e+04, -1.00399168e+04,\n",
       "       -9.34379341e+03, -8.68051766e+03, -8.04929800e+03, -7.44934294e+03,\n",
       "       -6.87986095e+03, -6.34006054e+03, -5.82915019e+03, -5.34633840e+03,\n",
       "       -4.89083365e+03, -4.46184444e+03, -4.05857926e+03, -3.68024661e+03,\n",
       "       -3.32605496e+03, -2.99521282e+03, -2.68692867e+03, -2.40041101e+03,\n",
       "       -2.13486833e+03, -1.88950911e+03, -1.66354186e+03, -1.45617506e+03,\n",
       "       -1.26661720e+03, -1.09407678e+03, -9.37762278e+02, -7.96882199e+02,\n",
       "       -6.70645029e+02, -5.58259259e+02, -4.58933381e+02, -3.71875887e+02,\n",
       "       -2.96295267e+02, -2.31400013e+02, -1.76398616e+02, -1.30499569e+02,\n",
       "       -9.29113613e+01, -6.28424857e+01, -3.95014331e+01, -2.20966949e+01,\n",
       "       -9.83676269e+00, -1.93012772e+00,  2.41471856e+00,  3.98928475e+00,\n",
       "        3.58507944e+00,  1.99361125e+00,  6.38875233e-03, -1.58507944e+00,\n",
       "       -1.98928475e+00, -4.14718556e-01,  3.93012772e+00,  1.18367627e+01,\n",
       "        2.40966949e+01,  4.15014331e+01,  6.48424857e+01,  9.49113613e+01,\n",
       "        1.32499569e+02,  1.78398616e+02,  2.33400013e+02,  2.98295267e+02,\n",
       "        3.73875887e+02,  4.60933381e+02,  5.60259259e+02,  6.72645029e+02,\n",
       "        7.98882199e+02,  9.39762278e+02,  1.09607678e+03,  1.26861720e+03,\n",
       "        1.45817506e+03,  1.66554186e+03,  1.89150911e+03,  2.13686833e+03,\n",
       "        2.40241101e+03,  2.68892867e+03,  2.99721282e+03,  3.32805496e+03,\n",
       "        3.68224661e+03,  4.06057926e+03,  4.46384444e+03,  4.89283365e+03,\n",
       "        5.34833840e+03,  5.83115019e+03,  6.34206054e+03,  6.88186095e+03,\n",
       "        7.45134294e+03,  8.05129800e+03,  8.68251766e+03,  9.34579341e+03,\n",
       "        1.00419168e+04,  1.07716792e+04,  1.15358723e+04,  1.23352876e+04,\n",
       "        1.31707164e+04,  1.40429505e+04,  1.49527812e+04,  1.59010000e+04])"
      ]
     },
     "execution_count": 66,
     "metadata": {},
     "output_type": "execute_result"
    }
   ],
   "source": [
    "y"
   ]
  },
  {
   "cell_type": "code",
   "execution_count": 67,
   "metadata": {},
   "outputs": [
    {
     "data": {
      "text/plain": [
       "[<matplotlib.lines.Line2D at 0x25993aa5a48>]"
      ]
     },
     "execution_count": 67,
     "metadata": {},
     "output_type": "execute_result"
    },
    {
     "data": {
      "image/png": "[encoded data removed]",
      "text/plain": [
       "<Figure size 432x288 with 1 Axes>"
      ]
     },
     "metadata": {
      "needs_background": "light"
     },
     "output_type": "display_data"
    }
   ],
   "source": [
    "plt.plot(x,y,linewidth=5)"
   ]
  },
  {
   "cell_type": "markdown",
   "metadata": {},
   "source": [
    "### Assignment"
   ]
  },
  {
   "cell_type": "code",
   "execution_count": 68,
   "metadata": {},
   "outputs": [],
   "source": [
    "import math\n",
    "import numpy as np"
   ]
  },
  {
   "cell_type": "code",
   "execution_count": 71,
   "metadata": {},
   "outputs": [],
   "source": [
    "y1=np.sin(x)"
   ]
  },
  {
   "cell_type": "code",
   "execution_count": 72,
   "metadata": {},
   "outputs": [
    {
     "data": {
      "text/plain": [
       "array([-0.91294525, -0.67900297, -0.33571414,  0.06163804,  0.44906404,\n",
       "        0.76417283,  0.95621934,  0.99427643,  0.87221538,  0.6096929 ,\n",
       "        0.24898556, -0.15181837, -0.5281735 , -0.81947165, -0.9788022 ,\n",
       "       -0.98050658, -0.82431033, -0.53536727, -0.16020873,  0.24074979,\n",
       "        0.60293801,  0.86802917,  0.99333304,  0.95867071,  0.76962418,\n",
       "        0.45663749,  0.07011396, -0.32770071, -0.6727425 , -0.90944594,\n",
       "       -0.99969234, -0.92894843, -0.7086068 , -0.37415123,  0.0205576 ,\n",
       "        0.41195583,  0.73701276,  0.94338126,  0.99782778,  0.89158426,\n",
       "        0.64176014,  0.28858706, -0.11106004, -0.49282204, -0.79522006,\n",
       "       -0.96955595, -0.98775469, -0.84688556, -0.56963411, -0.20064886,\n",
       "        0.20064886,  0.56963411,  0.84688556,  0.98775469,  0.96955595,\n",
       "        0.79522006,  0.49282204,  0.11106004, -0.28858706, -0.64176014,\n",
       "       -0.89158426, -0.99782778, -0.94338126, -0.73701276, -0.41195583,\n",
       "       -0.0205576 ,  0.37415123,  0.7086068 ,  0.92894843,  0.99969234,\n",
       "        0.90944594,  0.6727425 ,  0.32770071, -0.07011396, -0.45663749,\n",
       "       -0.76962418, -0.95867071, -0.99333304, -0.86802917, -0.60293801,\n",
       "       -0.24074979,  0.16020873,  0.53536727,  0.82431033,  0.98050658,\n",
       "        0.9788022 ,  0.81947165,  0.5281735 ,  0.15181837, -0.24898556,\n",
       "       -0.6096929 , -0.87221538, -0.99427643, -0.95621934, -0.76417283,\n",
       "       -0.44906404, -0.06163804,  0.33571414,  0.67900297,  0.91294525])"
      ]
     },
     "execution_count": 72,
     "metadata": {},
     "output_type": "execute_result"
    }
   ],
   "source": [
    "y1"
   ]
  },
  {
   "cell_type": "code",
   "execution_count": 74,
   "metadata": {},
   "outputs": [
    {
     "data": {
      "text/plain": [
       "[<matplotlib.lines.Line2D at 0x25993b90a08>]"
      ]
     },
     "execution_count": 74,
     "metadata": {},
     "output_type": "execute_result"
    },
    {
     "data": {
      "image/png": "[encoded data removed]",
      "text/plain": [
       "<Figure size 432x288 with 1 Axes>"
      ]
     },
     "metadata": {
      "needs_background": "light"
     },
     "output_type": "display_data"
    }
   ],
   "source": [
    "plt.plot(x,y1,linewidth=3)"
   ]
  },
  {
   "cell_type": "code",
   "execution_count": 75,
   "metadata": {},
   "outputs": [],
   "source": [
    "y2=np.cos(x)"
   ]
  },
  {
   "cell_type": "code",
   "execution_count": 76,
   "metadata": {},
   "outputs": [
    {
     "data": {
      "text/plain": [
       "array([ 0.40808206,  0.73413553,  0.94196391,  0.99809857,  0.89349958,\n",
       "        0.64501154,  0.29265094, -0.10683812, -0.48912199, -0.79263773,\n",
       "       -0.9685072 , -0.98840841, -0.84913647, -0.57311973, -0.20480786,\n",
       "        0.19648623,  0.56613821,  0.84461938,  0.98708316,  0.97058721,\n",
       "        0.79778804,  0.4965132 ,  0.11527995, -0.28451797, -0.63849716,\n",
       "       -0.88965286, -0.99753899, -0.94478159, -0.7398767 , -0.41582217,\n",
       "       -0.0248037 ,  0.37020915,  0.70560358,  0.9273677 ,  0.99978867,\n",
       "        0.91120382,  0.67587883,  0.33171042, -0.06587659, -0.45285485,\n",
       "       -0.76690542, -0.95745366, -0.9938137 , -0.87013012, -0.60632092,\n",
       "       -0.24486989,  0.15601496,  0.53177518,  0.8218984 ,  0.97966323,\n",
       "        0.97966323,  0.8218984 ,  0.53177518,  0.15601496, -0.24486989,\n",
       "       -0.60632092, -0.87013012, -0.9938137 , -0.95745366, -0.76690542,\n",
       "       -0.45285485, -0.06587659,  0.33171042,  0.67587883,  0.91120382,\n",
       "        0.99978867,  0.9273677 ,  0.70560358,  0.37020915, -0.0248037 ,\n",
       "       -0.41582217, -0.7398767 , -0.94478159, -0.99753899, -0.88965286,\n",
       "       -0.63849716, -0.28451797,  0.11527995,  0.4965132 ,  0.79778804,\n",
       "        0.97058721,  0.98708316,  0.84461938,  0.56613821,  0.19648623,\n",
       "       -0.20480786, -0.57311973, -0.84913647, -0.98840841, -0.9685072 ,\n",
       "       -0.79263773, -0.48912199, -0.10683812,  0.29265094,  0.64501154,\n",
       "        0.89349958,  0.99809857,  0.94196391,  0.73413553,  0.40808206])"
      ]
     },
     "execution_count": 76,
     "metadata": {},
     "output_type": "execute_result"
    }
   ],
   "source": [
    "y2"
   ]
  },
  {
   "cell_type": "code",
   "execution_count": 77,
   "metadata": {},
   "outputs": [
    {
     "data": {
      "text/plain": [
       "[<matplotlib.lines.Line2D at 0x25993c0a548>]"
      ]
     },
     "execution_count": 77,
     "metadata": {},
     "output_type": "execute_result"
    },
    {
     "data": {
      "image/png": "[encoded data removed]",
      "text/plain": [
       "<Figure size 432x288 with 1 Axes>"
      ]
     },
     "metadata": {
      "needs_background": "light"
     },
     "output_type": "display_data"
    }
   ],
   "source": [
    "plt.plot(x,y2,linewidth=3)"
   ]
  },
  {
   "cell_type": "code",
   "execution_count": 80,
   "metadata": {},
   "outputs": [],
   "source": [
    "y3=np.tan(x)"
   ]
  },
  {
   "cell_type": "markdown",
   "metadata": {},
   "source": []
  },
  {
   "cell_type": "code",
   "execution_count": 81,
   "metadata": {},
   "outputs": [
    {
     "data": {
      "text/plain": [
       "array([-2.23716094e+00, -9.24901386e-01, -3.56398094e-01,  6.17554609e-02,\n",
       "        5.02590095e-01,  1.18474288e+00,  3.26743983e+00, -9.30638238e+00,\n",
       "       -1.78322668e+00, -7.69194908e-01, -2.57081790e-01,  1.53598828e-01,\n",
       "        6.22012501e-01,  1.42984373e+00,  4.77912418e+00, -4.99020500e+00,\n",
       "       -1.45602313e+00, -6.33856244e-01, -1.62305203e-01,  2.48045502e-01,\n",
       "        7.55762148e-01,  1.74824992e+00,  8.61670261e+00, -3.36945573e+00,\n",
       "       -1.20536822e+00, -5.13276032e-01, -7.02869374e-02,  3.46853404e-01,\n",
       "        9.09263000e-01,  2.18710307e+00,  4.03041606e+01, -2.50925301e+00,\n",
       "       -1.00425625e+00, -4.03455101e-01,  2.05619416e-02,  4.52100643e-01,\n",
       "        1.09045102e+00,  2.84399044e+00, -1.51469245e+01, -1.96880803e+00,\n",
       "       -8.36817839e-01, -3.01410994e-01,  1.11751366e-01,  5.66377405e-01,\n",
       "        1.31154975e+00,  3.95947400e+00, -6.33115371e+00, -1.59256316e+00,\n",
       "       -6.93071194e-01, -2.04814115e-01,  2.04814115e-01,  6.93071194e-01,\n",
       "        1.59256316e+00,  6.33115371e+00, -3.95947400e+00, -1.31154975e+00,\n",
       "       -5.66377405e-01, -1.11751366e-01,  3.01410994e-01,  8.36817839e-01,\n",
       "        1.96880803e+00,  1.51469245e+01, -2.84399044e+00, -1.09045102e+00,\n",
       "       -4.52100643e-01, -2.05619416e-02,  4.03455101e-01,  1.00425625e+00,\n",
       "        2.50925301e+00, -4.03041606e+01, -2.18710307e+00, -9.09263000e-01,\n",
       "       -3.46853404e-01,  7.02869374e-02,  5.13276032e-01,  1.20536822e+00,\n",
       "        3.36945573e+00, -8.61670261e+00, -1.74824992e+00, -7.55762148e-01,\n",
       "       -2.48045502e-01,  1.62305203e-01,  6.33856244e-01,  1.45602313e+00,\n",
       "        4.99020500e+00, -4.77912418e+00, -1.42984373e+00, -6.22012501e-01,\n",
       "       -1.53598828e-01,  2.57081790e-01,  7.69194908e-01,  1.78322668e+00,\n",
       "        9.30638238e+00, -3.26743983e+00, -1.18474288e+00, -5.02590095e-01,\n",
       "       -6.17554609e-02,  3.56398094e-01,  9.24901386e-01,  2.23716094e+00])"
      ]
     },
     "execution_count": 81,
     "metadata": {},
     "output_type": "execute_result"
    }
   ],
   "source": [
    "y3"
   ]
  },
  {
   "cell_type": "code",
   "execution_count": 83,
   "metadata": {},
   "outputs": [
    {
     "data": {
      "text/plain": [
       "[<matplotlib.lines.Line2D at 0x25993cfb608>]"
      ]
     },
     "execution_count": 83,
     "metadata": {},
     "output_type": "execute_result"
    },
    {
     "data": {
      "image/png": "[encoded data removed]",
      "text/plain": [
       "<Figure size 432x288 with 1 Axes>"
      ]
     },
     "metadata": {
      "needs_background": "light"
     },
     "output_type": "display_data"
    }
   ],
   "source": [
    "plt.plot(x,y3,linewidth=1)"
   ]
  },
  {
   "cell_type": "code",
   "execution_count": null,
   "metadata": {},
   "outputs": [],
   "source": []
  }
 ],
 "metadata": {
  "kernelspec": {
   "display_name": "Python 3",
   "language": "python",
   "name": "python3"
  },
  "language_info": {
   "codemirror_mode": {
    "name": "ipython",
    "version": 3
   },
   "file_extension": ".py",
   "mimetype": "text/x-python",
   "name": "python",
   "nbconvert_exporter": "python",
   "pygments_lexer": "ipython3",
   "version": "3.7.6"
  }
 },
 "nbformat": 4,
 "nbformat_minor": 4
}
